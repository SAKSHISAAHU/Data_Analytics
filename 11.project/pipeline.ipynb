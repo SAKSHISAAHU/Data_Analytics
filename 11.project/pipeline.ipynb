{
 "cells": [
  {
   "cell_type": "markdown",
   "id": "9b24c6bc",
   "metadata": {},
   "source": [
    "# **Pipeline Process**\n",
    "- It means, the complete steps for end-to-end data analytics process."
   ]
  },
  {
   "cell_type": "markdown",
   "id": "71e6aae0",
   "metadata": {},
   "source": [
    "### 1. **Business problem understanding / Project understanding.**\n",
    "- It invovlve complete undestanding of business problem.\n",
    "- Complete analysis on given data is called **Analytical Report**."
   ]
  },
  {
   "cell_type": "markdown",
   "id": "4a04cb49",
   "metadata": {},
   "source": [
    "### 2. **Extract**\n",
    "- *Extract data*\n",
    "    - It means extracting the data from the source. It can be either excel, csv format or database.\n",
    "    - load the raw data which can be in single/ multiple tables.\n",
    "- *Data understanding*\n",
    "    - understanding each and every column meaning, if dosent know do research.\n",
    "- *Observe schema*\n",
    "    - means connection between the multiple tables \n",
    "    - only if the data is load in Power BI, SQL, Tableau cause there only can be possible to see.\n",
    "- *Data Exploration*\n",
    "    - observing internal values of columns"
   ]
  },
  {
   "cell_type": "markdown",
   "id": "4a68b5fc",
   "metadata": {},
   "source": [
    "### 3. **Transform** \n",
    "\n",
    "- *Data cleaning*\n",
    "    - treat wrong value\n",
    "    - treat wrong datatype\n",
    "    - treat duplicates\n",
    "    - treat missing values\n",
    "    - treat abnormal data/ outliers\n",
    "    - treat unimportant column(drop) when the whole transform step is completed.\n",
    "    \n",
    "- *Data wrangling*\n",
    "    - discritization\n",
    "    - data tranformation (skewness)\n",
    "    - transformation (sometimes we have to do transformation of data before data cleaning, depending upon various datasets)\n",
    "        - if the data comes in multiple table\n",
    "            - merge (join)\n",
    "            - concat (append)\n",
    "        - making new column from extisting ones.\n",
    "\n",
    "- treating unimportant column(drop), preferably done in last because by mistakely important column dosent get drop.       \n",
    "- Now the data is cleaned for analysis."
   ]
  },
  {
   "cell_type": "markdown",
   "id": "40c92f80",
   "metadata": {},
   "source": [
    "### 4. **Load**\n",
    "- Load the clean data\n",
    "- *Apply data analysis*\n",
    "    - (here we have to apply logical question based on KPIs)\n",
    "    - statistical measure + tables + plots \n",
    "        - statisical measure should represent using, cards and multiple card.\n",
    "        - calculated field should represent using tables.\n",
    "    - here also we can sometimes add new column based upon the question requirement.\n",
    "- entire data analysis can be done in multiple pages in powerBI."
   ]
  },
  {
   "cell_type": "markdown",
   "id": "8d64806a",
   "metadata": {},
   "source": [
    "### 5. **Dashboard**\n",
    "- creating dashbord according by doing data visulization\n",
    "    - entire data analysis **important information** represent only in less pages.\n",
    "    - for python we can create dashboard using 'subplot'."
   ]
  },
  {
   "cell_type": "markdown",
   "id": "2b96dafb",
   "metadata": {},
   "source": [
    "### 6.**Report**\n",
    "- complete report of a project is,\n",
    "    - combination of **important as well as unimportant obsevation** we get while doing entire data analyis.  \n",
    "        - means how many questions we have applied that many observation should be present in report.\n",
    "        - Q1 : output(plot/table) + observation\n",
    "        - Q2 : output(plot/table) + observation\n",
    "        - Q3 : output(plot/table) + observation etc."
   ]
  },
  {
   "cell_type": "markdown",
   "id": "901acacb",
   "metadata": {},
   "source": [
    "### 7. **Presentation**\n",
    "- while presenting or explaning project to other,\n",
    "    - explain dataset \n",
    "        - explain what is data about like sales, loan etc\n",
    "        - explain columns\n",
    "    - explain business problem\n",
    "        - KPIs based analysis\n",
    "        - complete analysis of project\n",
    "            - univariate analysis\n",
    "            - bivariate analysis\n",
    "            - multivariate analysis\n",
    "    - explain observation done on dataset"
   ]
  }
 ],
 "metadata": {
  "language_info": {
   "name": "python"
  }
 },
 "nbformat": 4,
 "nbformat_minor": 5
}
