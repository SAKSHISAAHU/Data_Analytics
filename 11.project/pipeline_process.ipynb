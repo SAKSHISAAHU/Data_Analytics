{
 "cells": [
  {
   "cell_type": "markdown",
   "id": "9b24c6bc",
   "metadata": {},
   "source": [
    "# **Pipeline Process**\n",
    "- It is the complete steps for end-to-end data analytics process."
   ]
  },
  {
   "cell_type": "markdown",
   "id": "71e6aae0",
   "metadata": {},
   "source": [
    "### 1. Business problem understanding / Project understanding.\n",
    "- It invovlve complete undestanding of business problem.\n",
    "- Complete analysis on given data is called **Analytical Report**."
   ]
  },
  {
   "cell_type": "markdown",
   "id": "4a04cb49",
   "metadata": {},
   "source": [
    "### 2. Extract\n",
    "- Extract data \n",
    "    - It means extracting the data from the source. It can be either excel, csv format or database.\n",
    "    - load the raw data which can in single/ multiple tables.\n",
    "- Data understanding\n",
    "    - understanding each and every column meaning, if dosent know do research.\n",
    "- Observe schema\n",
    "    - means connection between the multiple tables \n",
    "    - only if the data is load in Power BI, SQL, Tableau cause there only can be possible to see.\n",
    "- Data Exploration\n",
    "    - observing internal values of columns"
   ]
  },
  {
   "cell_type": "markdown",
   "id": "4a68b5fc",
   "metadata": {},
   "source": [
    "### 3. Transform \n",
    "\n",
    "- Data cleaning\n",
    "    - treat wrong value\n",
    "    - treat wrong datatype\n",
    "    - treat duplicates\n",
    "    - treat missing values\n",
    "    - treat unimportant column(drop)\n",
    "    \n",
    "- Data wrangling\n",
    "    - discritization\n",
    "    - transformation\n",
    "        - (if the data comes in multiple table)\n",
    "            - merge (join)\n",
    "            - concat (append)\n",
    "        - making new column from extisting ones.\n",
    "        \n",
    "- Now the data is cleaned."
   ]
  },
  {
   "cell_type": "markdown",
   "id": "40c92f80",
   "metadata": {},
   "source": [
    "### 4. Load\n",
    "- Load the clean data\n",
    "- Apply data analysis\n",
    "    - statistical measure + tables + plots "
   ]
  },
  {
   "cell_type": "markdown",
   "id": "901acacb",
   "metadata": {},
   "source": [
    "### 5. Presentation"
   ]
  }
 ],
 "metadata": {
  "language_info": {
   "name": "python"
  }
 },
 "nbformat": 4,
 "nbformat_minor": 5
}
