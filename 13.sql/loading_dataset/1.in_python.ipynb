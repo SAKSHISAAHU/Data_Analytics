{
 "cells": [
  {
   "cell_type": "markdown",
   "id": "bb0bf287",
   "metadata": {},
   "source": [
    "# **Loading Dataset from SQL to Python**"
   ]
  },
  {
   "cell_type": "markdown",
   "id": "662779d4",
   "metadata": {},
   "source": []
  }
 ],
 "metadata": {
  "language_info": {
   "name": "python"
  }
 },
 "nbformat": 4,
 "nbformat_minor": 5
}
