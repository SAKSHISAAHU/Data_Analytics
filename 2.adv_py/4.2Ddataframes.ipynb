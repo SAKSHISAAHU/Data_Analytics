{
 "cells": [
  {
   "cell_type": "markdown",
   "id": "fa1956a9",
   "metadata": {},
   "source": [
    "## 2D PANDAS DATAFRAMES\n",
    "- 2D dataframes = means more than 1 columns\n"
   ]
  },
  {
   "cell_type": "code",
   "execution_count": 192,
   "id": "79480e00",
   "metadata": {},
   "outputs": [],
   "source": [
    "import  numpy as np\n",
    "import pandas as pd"
   ]
  },
  {
   "cell_type": "markdown",
   "id": "ecd397f4",
   "metadata": {},
   "source": [
    "### **1.1 Creation**\n",
    "1. list of lists - nested list\n",
    "2. 2D array\n",
    "3. dictionary\n",
    "4. transpose\n",
    "5. missing value"
   ]
  },
  {
   "cell_type": "code",
   "execution_count": 193,
   "id": "79de84a4",
   "metadata": {},
   "outputs": [
    {
     "name": "stdout",
     "output_type": "stream",
     "text": [
      "    x   y   z\n",
      "a  10  20  30\n",
      "b  40  50  60\n"
     ]
    }
   ],
   "source": [
    "# from list of lists ----- items will store in rows\n",
    "l=[[10,20,30],[40,50,60]]\n",
    "df=pd.DataFrame(l, index=['a','b'], columns=['x','y','z'])\n",
    "print(df)"
   ]
  },
  {
   "cell_type": "code",
   "execution_count": 194,
   "id": "a2d7ea6c",
   "metadata": {},
   "outputs": [
    {
     "name": "stdout",
     "output_type": "stream",
     "text": [
      "    c1  c2  c3\n",
      "r1   1   2   3\n",
      "r2   4   5   6\n"
     ]
    }
   ],
   "source": [
    "# from 2D array\n",
    "a=np.array([[1,2,3],[4,5,6]])\n",
    "df=pd.DataFrame(a, columns=['c1','c2','c3'] , index=['r1','r2'])\n",
    "print(df)"
   ]
  },
  {
   "cell_type": "code",
   "execution_count": 195,
   "id": "65b5e7c3",
   "metadata": {},
   "outputs": [
    {
     "name": "stdout",
     "output_type": "stream",
     "text": [
      "   x  y  z\n",
      "a  1  4  7\n",
      "b  2  5  8\n",
      "c  3  6  9\n"
     ]
    }
   ],
   "source": [
    "# using Dictionary ----- items will store as column\n",
    "d={'x':[1,2,3],'y':[4,5,6],'z':[7,8,9]}\n",
    "df=pd.DataFrame(d, index=['a','b','c'])\n",
    "print(df)"
   ]
  },
  {
   "cell_type": "code",
   "execution_count": 196,
   "id": "7a0c17c6",
   "metadata": {},
   "outputs": [
    {
     "data": {
      "text/html": [
       "<div>\n",
       "<style scoped>\n",
       "    .dataframe tbody tr th:only-of-type {\n",
       "        vertical-align: middle;\n",
       "    }\n",
       "\n",
       "    .dataframe tbody tr th {\n",
       "        vertical-align: top;\n",
       "    }\n",
       "\n",
       "    .dataframe thead th {\n",
       "        text-align: right;\n",
       "    }\n",
       "</style>\n",
       "<table border=\"1\" class=\"dataframe\">\n",
       "  <thead>\n",
       "    <tr style=\"text-align: right;\">\n",
       "      <th></th>\n",
       "      <th>0</th>\n",
       "      <th>1</th>\n",
       "    </tr>\n",
       "  </thead>\n",
       "  <tbody>\n",
       "    <tr>\n",
       "      <th>0</th>\n",
       "      <td>10</td>\n",
       "      <td>40</td>\n",
       "    </tr>\n",
       "    <tr>\n",
       "      <th>1</th>\n",
       "      <td>20</td>\n",
       "      <td>50</td>\n",
       "    </tr>\n",
       "    <tr>\n",
       "      <th>2</th>\n",
       "      <td>30</td>\n",
       "      <td>60</td>\n",
       "    </tr>\n",
       "  </tbody>\n",
       "</table>\n",
       "</div>"
      ],
      "text/plain": [
       "    0   1\n",
       "0  10  40\n",
       "1  20  50\n",
       "2  30  60"
      ]
     },
     "execution_count": 196,
     "metadata": {},
     "output_type": "execute_result"
    }
   ],
   "source": [
    "# transpose ----- rows to columns or columns to rows\n",
    "l=[[10,20,30],[40,50,60]]\n",
    "df=pd.DataFrame(l)\n",
    "df.T"
   ]
  },
  {
   "cell_type": "code",
   "execution_count": 197,
   "id": "0ecdc367",
   "metadata": {},
   "outputs": [
    {
     "name": "stdout",
     "output_type": "stream",
     "text": [
      "   0    1  2\n",
      "0  1  NaN  2\n",
      "1  4    5  6\n",
      "2  7  sam  9\n",
      "       0      1      2\n",
      "0  False   True  False\n",
      "1  False  False  False\n",
      "2  False  False  False\n"
     ]
    }
   ],
   "source": [
    "# missing value ----- np.nan \n",
    "\n",
    "l=[[1,np.nan,2],[4,5,6],[7,'sam',9]]\n",
    "df=pd.DataFrame(l)\n",
    "print(df)\n",
    "\n",
    "x=df.isnull()\n",
    "print(x)"
   ]
  },
  {
   "cell_type": "markdown",
   "id": "90d5b2e2",
   "metadata": {},
   "source": [
    "### **1.2 Extraction**\n",
    "1. Single & Multiple value\n",
    "2. Single row\n",
    "3. Single column\n",
    "4. Multiple row\n",
    "    1. pattern\n",
    "    2. no pattern\n",
    "5. Multiple column\n",
    "    1. pattern\n",
    "    2. no pattern\n",
    "6. Reverse printing row/column\n",
    "7. Multiple row and multiple column\n",
    "8. Based upon condition\n",
    "    1. single\n",
    "    2. multiple\n",
    "\n",
    "- **iloc gives index no.**\n",
    "- **loc gives index name**\n",
    "- **SYNTAX - df.iloc/loc[ row, column ]**\n",
    "- **df[\"col_name\"] --> gives whole column**\n",
    "- **df[[\"list_of_col_name\"]] --> list of columns**\n",
    "- **df.loc[index_name] --> fives whole row**"
   ]
  },
  {
   "cell_type": "code",
   "execution_count": 198,
   "id": "cbd24e6a",
   "metadata": {},
   "outputs": [
    {
     "name": "stdout",
     "output_type": "stream",
     "text": [
      "    c1  c2  c3\n",
      "r1  10  20  30\n",
      "r2  40  50  60\n",
      "r3  70  80  90\n"
     ]
    }
   ],
   "source": [
    "import pandas as pd\n",
    "df=pd.DataFrame([[10,20,30],[40,50,60],[70,80,90]], index=['r1','r2','r3'] , columns=['c1','c2','c3'])\n",
    "print(df)"
   ]
  },
  {
   "cell_type": "code",
   "execution_count": 199,
   "id": "539413f9",
   "metadata": {},
   "outputs": [
    {
     "name": "stdout",
     "output_type": "stream",
     "text": [
      "30\n",
      "30 \n",
      "\n",
      "r1    10\n",
      "r3    70\n",
      "Name: c1, dtype: int64\n",
      "r1    10\n",
      "r3    70\n",
      "Name: c1, dtype: int64\n"
     ]
    }
   ],
   "source": [
    "# 1.single value\n",
    "print(df.iloc[0,2])\n",
    "print(df.loc['r1','c3'],'\\n')\n",
    "\n",
    "# multiple value\n",
    "print(df.iloc[[0,2],0])\n",
    "print(df.loc[['r1','r3'],'c1'])"
   ]
  },
  {
   "cell_type": "code",
   "execution_count": 200,
   "id": "6464ae5c",
   "metadata": {},
   "outputs": [
    {
     "name": "stdout",
     "output_type": "stream",
     "text": [
      "c1    40\n",
      "c2    50\n",
      "c3    60\n",
      "Name: r2, dtype: int64\n",
      "c1    40\n",
      "c2    50\n",
      "c3    60\n",
      "Name: r2, dtype: int64 \n",
      "\n",
      "r1    30\n",
      "r2    60\n",
      "r3    90\n",
      "Name: c3, dtype: int64\n",
      "r1    20\n",
      "r2    50\n",
      "r3    80\n",
      "Name: c2, dtype: int64\n"
     ]
    }
   ],
   "source": [
    "# 2.single row\n",
    "# 2.1\n",
    "print(df.iloc[1,:])\n",
    "# 2.2 \n",
    "print(df.loc['r2'],'\\n')    # '\\n' is for breaking line\n",
    "\n",
    "\n",
    "# 3.single column\n",
    "# 3.1\n",
    "print(df.iloc[:,2])\n",
    "# 3.2\n",
    "print(df['c2']) # always write column name as it is dataframe == columns"
   ]
  },
  {
   "cell_type": "code",
   "execution_count": 201,
   "id": "8b9e1000",
   "metadata": {},
   "outputs": [
    {
     "name": "stdout",
     "output_type": "stream",
     "text": [
      "    c1  c2  c3\n",
      "r1  10  20  30\n",
      "r2  40  50  60\n",
      "    c1  c2  c3\n",
      "r1  10  20  30\n",
      "r2  40  50  60\n",
      "    c1\n",
      "r1  10\n",
      "r2  40\n",
      "r3  70\n",
      "    c1  c2\n",
      "r1  10  20\n",
      "r2  40  50\n",
      "r3  70  80\n"
     ]
    }
   ],
   "source": [
    "# slicing\n",
    "\n",
    "# 4.1 multiple row\n",
    "print(df.iloc[0:2,:]) # here 0 is included and 2 is not thats why it returns r1 and r2\n",
    "print(df.loc['r1':'r2',:])\n",
    "\n",
    "# 5.1 multiple column\n",
    "print(df.iloc[:,0:1])\n",
    "print(df.loc[:,'c1':'c2'])"
   ]
  },
  {
   "cell_type": "code",
   "execution_count": 202,
   "id": "52886ec1",
   "metadata": {},
   "outputs": [
    {
     "name": "stdout",
     "output_type": "stream",
     "text": [
      "    c1  c2  c3\n",
      "r2  40  50  60\n",
      "r3  70  80  90\n",
      "    c1  c2  c3\n",
      "r2  40  50  60\n",
      "r3  70  80  90\n",
      "    c1  c2  c3\n",
      "r2  40  50  60\n",
      "r3  70  80  90 \n",
      "\n",
      "    c2  c3\n",
      "r1  20  30\n",
      "r2  50  60\n",
      "r3  80  90\n",
      "    c2  c3\n",
      "r1  20  30\n",
      "r2  50  60\n",
      "r3  80  90\n",
      "    c2  c3\n",
      "r1  20  30\n",
      "r2  50  60\n",
      "r3  80  90\n"
     ]
    }
   ],
   "source": [
    "# indexing\n",
    "\n",
    "# 4.2 multiple row\n",
    "print(df.iloc[[1,2], : ])\n",
    "print(df.loc[['r2','r3'],:])\n",
    "print(df.loc[['r2','r3']],'\\n')\n",
    "\n",
    "# 5.2 multiple column\n",
    "print(df.iloc[:,[1,2]])\n",
    "print(df.loc[:,['c2','c3']])\n",
    "print(df[['c2','c3']])"
   ]
  },
  {
   "cell_type": "code",
   "execution_count": 203,
   "id": "1c8c0b48",
   "metadata": {},
   "outputs": [
    {
     "name": "stdout",
     "output_type": "stream",
     "text": [
      "r3    80\n",
      "r2    50\n",
      "r1    20\n",
      "Name: c2, dtype: int64\n",
      "c3    30\n",
      "c2    20\n",
      "c1    10\n",
      "Name: r1, dtype: int64\n"
     ]
    }
   ],
   "source": [
    "# 6.1 reverse printing row\n",
    "print(df.iloc[::-1,1])\n",
    "\n",
    "# 6.2 reverse printing column\n",
    "print(df.iloc[0,::-1])"
   ]
  },
  {
   "cell_type": "code",
   "execution_count": 204,
   "id": "25717809",
   "metadata": {},
   "outputs": [
    {
     "name": "stdout",
     "output_type": "stream",
     "text": [
      "    c1  c2\n",
      "r2  40  50\n",
      "r3  70  80\n",
      "    c1  c2\n",
      "r2  40  50\n",
      "r3  70  80\n"
     ]
    }
   ],
   "source": [
    "# 7.multiple row and multiple column\n",
    "\n",
    "print(df.iloc[[1,2],[0,1]])\n",
    "print(df.loc[['r2','r3'],['c1','c2']])"
   ]
  },
  {
   "cell_type": "code",
   "execution_count": 205,
   "id": "3f43d69a",
   "metadata": {},
   "outputs": [
    {
     "name": "stdout",
     "output_type": "stream",
     "text": [
      "r1    False\n",
      "r2     True\n",
      "r3     True\n",
      "Name: c1, dtype: bool\n",
      "    c1  c2  c3\n",
      "r2  40  50  60\n",
      "r3  70  80  90\n",
      "r2    40\n",
      "r3    70\n",
      "Name: c1, dtype: int64\n",
      "r2    40\n",
      "r3    70\n",
      "Name: c1, dtype: int64\n"
     ]
    }
   ],
   "source": [
    "# 8.based upon condition\n",
    "\n",
    "# 8.1 single condition\n",
    "print(df['c1']>20)  # return bool value for every value\n",
    "print(df[df['c1']>20]) # The filtering (df[...]) is row-based, c2 and c3 values appear because the whole row is being returned, there is no conncetion of them with condition.\n",
    "print(df[df['c1']>20]['c1'])\n",
    "print(df['c1'][df['c1']>20])"
   ]
  },
  {
   "cell_type": "code",
   "execution_count": 206,
   "id": "c50edb0b",
   "metadata": {},
   "outputs": [
    {
     "name": "stdout",
     "output_type": "stream",
     "text": [
      "    c1  c2  c3\n",
      "r3  70  80  90\n",
      "r1    True\n",
      "r2    True\n",
      "r3    True\n",
      "Name: c2, dtype: bool\n"
     ]
    }
   ],
   "source": [
    "# 8.2 multiple condition\n",
    "    # done by using logical operators &(and), |(or), ~(not)\n",
    "\n",
    "print(df[(df['c1']==70) & (df['c3']>40)])   # select the entire record where condition satisfies\n",
    "print(~(df['c2']==70))"
   ]
  },
  {
   "cell_type": "markdown",
   "id": "023c25db",
   "metadata": {},
   "source": [
    "### **1.3 Modification**\n",
    "1. set index\n",
    "2. reset index\n",
    "3. replace with\n",
    "    1. single value\n",
    "    2. multiple value\n",
    "    3. middle value\n",
    "    4. multiple row with multiple value\n",
    "    5. multiple column with multiple value\n",
    "4. delete/drop\n",
    "    1. single row\n",
    "    2. multiple row\n",
    "    3. single column\n",
    "    4. multiple column\n",
    "5. add\n",
    "    1. single row\n",
    "    2. single column\n",
    "    3. new column based on existing ones\n",
    "    4. using arange()\n",
    "6. sort values"
   ]
  },
  {
   "cell_type": "code",
   "execution_count": 207,
   "id": "488641ec",
   "metadata": {},
   "outputs": [
    {
     "data": {
      "text/html": [
       "<div>\n",
       "<style scoped>\n",
       "    .dataframe tbody tr th:only-of-type {\n",
       "        vertical-align: middle;\n",
       "    }\n",
       "\n",
       "    .dataframe tbody tr th {\n",
       "        vertical-align: top;\n",
       "    }\n",
       "\n",
       "    .dataframe thead th {\n",
       "        text-align: right;\n",
       "    }\n",
       "</style>\n",
       "<table border=\"1\" class=\"dataframe\">\n",
       "  <thead>\n",
       "    <tr style=\"text-align: right;\">\n",
       "      <th></th>\n",
       "      <th>Age</th>\n",
       "      <th>Salary</th>\n",
       "      <th>Gender</th>\n",
       "    </tr>\n",
       "  </thead>\n",
       "  <tbody>\n",
       "    <tr>\n",
       "      <th>0</th>\n",
       "      <td>22</td>\n",
       "      <td>28000</td>\n",
       "      <td>M</td>\n",
       "    </tr>\n",
       "    <tr>\n",
       "      <th>1</th>\n",
       "      <td>30</td>\n",
       "      <td>17000</td>\n",
       "      <td>F</td>\n",
       "    </tr>\n",
       "    <tr>\n",
       "      <th>2</th>\n",
       "      <td>23</td>\n",
       "      <td>46000</td>\n",
       "      <td>M</td>\n",
       "    </tr>\n",
       "    <tr>\n",
       "      <th>3</th>\n",
       "      <td>25</td>\n",
       "      <td>42000</td>\n",
       "      <td>M</td>\n",
       "    </tr>\n",
       "    <tr>\n",
       "      <th>4</th>\n",
       "      <td>24</td>\n",
       "      <td>55000</td>\n",
       "      <td>F</td>\n",
       "    </tr>\n",
       "  </tbody>\n",
       "</table>\n",
       "</div>"
      ],
      "text/plain": [
       "   Age  Salary Gender\n",
       "0   22   28000      M\n",
       "1   30   17000      F\n",
       "2   23   46000      M\n",
       "3   25   42000      M\n",
       "4   24   55000      F"
      ]
     },
     "execution_count": 207,
     "metadata": {},
     "output_type": "execute_result"
    }
   ],
   "source": [
    "df1= pd.DataFrame({\n",
    "    'Age': [22, 30, 23, 25, 24],\n",
    "    'Salary': [28000, 17000, 46000, 42000, 55000],\n",
    "    'Gender': [\"M\", \"F\", \"M\", \"M\", \"F\"]\n",
    "})\n",
    "df1"
   ]
  },
  {
   "cell_type": "code",
   "execution_count": 208,
   "id": "a6982d9c",
   "metadata": {},
   "outputs": [
    {
     "data": {
      "text/html": [
       "<div>\n",
       "<style scoped>\n",
       "    .dataframe tbody tr th:only-of-type {\n",
       "        vertical-align: middle;\n",
       "    }\n",
       "\n",
       "    .dataframe tbody tr th {\n",
       "        vertical-align: top;\n",
       "    }\n",
       "\n",
       "    .dataframe thead th {\n",
       "        text-align: right;\n",
       "    }\n",
       "</style>\n",
       "<table border=\"1\" class=\"dataframe\">\n",
       "  <thead>\n",
       "    <tr style=\"text-align: right;\">\n",
       "      <th></th>\n",
       "      <th>Salary</th>\n",
       "      <th>Gender</th>\n",
       "    </tr>\n",
       "    <tr>\n",
       "      <th>Age</th>\n",
       "      <th></th>\n",
       "      <th></th>\n",
       "    </tr>\n",
       "  </thead>\n",
       "  <tbody>\n",
       "    <tr>\n",
       "      <th>22</th>\n",
       "      <td>28000</td>\n",
       "      <td>M</td>\n",
       "    </tr>\n",
       "    <tr>\n",
       "      <th>30</th>\n",
       "      <td>17000</td>\n",
       "      <td>F</td>\n",
       "    </tr>\n",
       "    <tr>\n",
       "      <th>23</th>\n",
       "      <td>46000</td>\n",
       "      <td>M</td>\n",
       "    </tr>\n",
       "    <tr>\n",
       "      <th>25</th>\n",
       "      <td>42000</td>\n",
       "      <td>M</td>\n",
       "    </tr>\n",
       "    <tr>\n",
       "      <th>24</th>\n",
       "      <td>55000</td>\n",
       "      <td>F</td>\n",
       "    </tr>\n",
       "  </tbody>\n",
       "</table>\n",
       "</div>"
      ],
      "text/plain": [
       "     Salary Gender\n",
       "Age               \n",
       "22    28000      M\n",
       "30    17000      F\n",
       "23    46000      M\n",
       "25    42000      M\n",
       "24    55000      F"
      ]
     },
     "execution_count": 208,
     "metadata": {},
     "output_type": "execute_result"
    }
   ],
   "source": [
    "# 1. set index\n",
    "\n",
    "data=df1.set_index('Age')\n",
    "data"
   ]
  },
  {
   "cell_type": "code",
   "execution_count": 209,
   "id": "bcff8c42",
   "metadata": {},
   "outputs": [
    {
     "data": {
      "text/html": [
       "<div>\n",
       "<style scoped>\n",
       "    .dataframe tbody tr th:only-of-type {\n",
       "        vertical-align: middle;\n",
       "    }\n",
       "\n",
       "    .dataframe tbody tr th {\n",
       "        vertical-align: top;\n",
       "    }\n",
       "\n",
       "    .dataframe thead th {\n",
       "        text-align: right;\n",
       "    }\n",
       "</style>\n",
       "<table border=\"1\" class=\"dataframe\">\n",
       "  <thead>\n",
       "    <tr style=\"text-align: right;\">\n",
       "      <th></th>\n",
       "      <th>Age</th>\n",
       "      <th>Salary</th>\n",
       "      <th>Gender</th>\n",
       "    </tr>\n",
       "  </thead>\n",
       "  <tbody>\n",
       "    <tr>\n",
       "      <th>0</th>\n",
       "      <td>22</td>\n",
       "      <td>28000</td>\n",
       "      <td>M</td>\n",
       "    </tr>\n",
       "    <tr>\n",
       "      <th>1</th>\n",
       "      <td>30</td>\n",
       "      <td>17000</td>\n",
       "      <td>F</td>\n",
       "    </tr>\n",
       "    <tr>\n",
       "      <th>2</th>\n",
       "      <td>23</td>\n",
       "      <td>46000</td>\n",
       "      <td>M</td>\n",
       "    </tr>\n",
       "    <tr>\n",
       "      <th>3</th>\n",
       "      <td>25</td>\n",
       "      <td>42000</td>\n",
       "      <td>M</td>\n",
       "    </tr>\n",
       "    <tr>\n",
       "      <th>4</th>\n",
       "      <td>24</td>\n",
       "      <td>55000</td>\n",
       "      <td>F</td>\n",
       "    </tr>\n",
       "  </tbody>\n",
       "</table>\n",
       "</div>"
      ],
      "text/plain": [
       "   Age  Salary Gender\n",
       "0   22   28000      M\n",
       "1   30   17000      F\n",
       "2   23   46000      M\n",
       "3   25   42000      M\n",
       "4   24   55000      F"
      ]
     },
     "execution_count": 209,
     "metadata": {},
     "output_type": "execute_result"
    }
   ],
   "source": [
    "# 2.reset index\n",
    "\n",
    "data.reset_index()"
   ]
  },
  {
   "cell_type": "code",
   "execution_count": 210,
   "id": "de509d28",
   "metadata": {},
   "outputs": [
    {
     "data": {
      "text/html": [
       "<div>\n",
       "<style scoped>\n",
       "    .dataframe tbody tr th:only-of-type {\n",
       "        vertical-align: middle;\n",
       "    }\n",
       "\n",
       "    .dataframe tbody tr th {\n",
       "        vertical-align: top;\n",
       "    }\n",
       "\n",
       "    .dataframe thead th {\n",
       "        text-align: right;\n",
       "    }\n",
       "</style>\n",
       "<table border=\"1\" class=\"dataframe\">\n",
       "  <thead>\n",
       "    <tr style=\"text-align: right;\">\n",
       "      <th></th>\n",
       "      <th>Age</th>\n",
       "      <th>Salary</th>\n",
       "      <th>Gender</th>\n",
       "    </tr>\n",
       "  </thead>\n",
       "  <tbody>\n",
       "    <tr>\n",
       "      <th>0</th>\n",
       "      <td>20</td>\n",
       "      <td>28000</td>\n",
       "      <td>M</td>\n",
       "    </tr>\n",
       "    <tr>\n",
       "      <th>1</th>\n",
       "      <td>20</td>\n",
       "      <td>17000</td>\n",
       "      <td>F</td>\n",
       "    </tr>\n",
       "    <tr>\n",
       "      <th>2</th>\n",
       "      <td>20</td>\n",
       "      <td>46000</td>\n",
       "      <td>M</td>\n",
       "    </tr>\n",
       "    <tr>\n",
       "      <th>3</th>\n",
       "      <td>20</td>\n",
       "      <td>42000</td>\n",
       "      <td>M</td>\n",
       "    </tr>\n",
       "    <tr>\n",
       "      <th>4</th>\n",
       "      <td>20</td>\n",
       "      <td>55000</td>\n",
       "      <td>F</td>\n",
       "    </tr>\n",
       "  </tbody>\n",
       "</table>\n",
       "</div>"
      ],
      "text/plain": [
       "   Age  Salary Gender\n",
       "0   20   28000      M\n",
       "1   20   17000      F\n",
       "2   20   46000      M\n",
       "3   20   42000      M\n",
       "4   20   55000      F"
      ]
     },
     "execution_count": 210,
     "metadata": {},
     "output_type": "execute_result"
    }
   ],
   "source": [
    "# 3.1 replace with single value\n",
    "x=df1.copy()\n",
    "x['Age']=20\n",
    "x"
   ]
  },
  {
   "cell_type": "code",
   "execution_count": 211,
   "id": "12d785c9",
   "metadata": {},
   "outputs": [
    {
     "data": {
      "text/html": [
       "<div>\n",
       "<style scoped>\n",
       "    .dataframe tbody tr th:only-of-type {\n",
       "        vertical-align: middle;\n",
       "    }\n",
       "\n",
       "    .dataframe tbody tr th {\n",
       "        vertical-align: top;\n",
       "    }\n",
       "\n",
       "    .dataframe thead th {\n",
       "        text-align: right;\n",
       "    }\n",
       "</style>\n",
       "<table border=\"1\" class=\"dataframe\">\n",
       "  <thead>\n",
       "    <tr style=\"text-align: right;\">\n",
       "      <th></th>\n",
       "      <th>Age</th>\n",
       "      <th>Salary</th>\n",
       "      <th>Gender</th>\n",
       "    </tr>\n",
       "  </thead>\n",
       "  <tbody>\n",
       "    <tr>\n",
       "      <th>0</th>\n",
       "      <td>10</td>\n",
       "      <td>28000</td>\n",
       "      <td>M</td>\n",
       "    </tr>\n",
       "    <tr>\n",
       "      <th>1</th>\n",
       "      <td>20</td>\n",
       "      <td>17000</td>\n",
       "      <td>F</td>\n",
       "    </tr>\n",
       "    <tr>\n",
       "      <th>2</th>\n",
       "      <td>30</td>\n",
       "      <td>46000</td>\n",
       "      <td>M</td>\n",
       "    </tr>\n",
       "    <tr>\n",
       "      <th>3</th>\n",
       "      <td>40</td>\n",
       "      <td>42000</td>\n",
       "      <td>M</td>\n",
       "    </tr>\n",
       "    <tr>\n",
       "      <th>4</th>\n",
       "      <td>50</td>\n",
       "      <td>55000</td>\n",
       "      <td>F</td>\n",
       "    </tr>\n",
       "  </tbody>\n",
       "</table>\n",
       "</div>"
      ],
      "text/plain": [
       "   Age  Salary Gender\n",
       "0   10   28000      M\n",
       "1   20   17000      F\n",
       "2   30   46000      M\n",
       "3   40   42000      M\n",
       "4   50   55000      F"
      ]
     },
     "execution_count": 211,
     "metadata": {},
     "output_type": "execute_result"
    }
   ],
   "source": [
    "# 3.2 replace with multiple value\n",
    "y=df1.copy()\n",
    "y['Age']=[10,20,30,40,50]\n",
    "y"
   ]
  },
  {
   "cell_type": "code",
   "execution_count": 212,
   "id": "4cdc17a3",
   "metadata": {},
   "outputs": [
    {
     "data": {
      "text/html": [
       "<div>\n",
       "<style scoped>\n",
       "    .dataframe tbody tr th:only-of-type {\n",
       "        vertical-align: middle;\n",
       "    }\n",
       "\n",
       "    .dataframe tbody tr th {\n",
       "        vertical-align: top;\n",
       "    }\n",
       "\n",
       "    .dataframe thead th {\n",
       "        text-align: right;\n",
       "    }\n",
       "</style>\n",
       "<table border=\"1\" class=\"dataframe\">\n",
       "  <thead>\n",
       "    <tr style=\"text-align: right;\">\n",
       "      <th></th>\n",
       "      <th>Age</th>\n",
       "      <th>Salary</th>\n",
       "      <th>Gender</th>\n",
       "    </tr>\n",
       "  </thead>\n",
       "  <tbody>\n",
       "    <tr>\n",
       "      <th>0</th>\n",
       "      <td>22</td>\n",
       "      <td>28000</td>\n",
       "      <td>M</td>\n",
       "    </tr>\n",
       "    <tr>\n",
       "      <th>1</th>\n",
       "      <td>30</td>\n",
       "      <td>0</td>\n",
       "      <td>F</td>\n",
       "    </tr>\n",
       "    <tr>\n",
       "      <th>2</th>\n",
       "      <td>23</td>\n",
       "      <td>46000</td>\n",
       "      <td>M</td>\n",
       "    </tr>\n",
       "    <tr>\n",
       "      <th>3</th>\n",
       "      <td>25</td>\n",
       "      <td>42000</td>\n",
       "      <td>M</td>\n",
       "    </tr>\n",
       "    <tr>\n",
       "      <th>4</th>\n",
       "      <td>24</td>\n",
       "      <td>55000</td>\n",
       "      <td>F</td>\n",
       "    </tr>\n",
       "  </tbody>\n",
       "</table>\n",
       "</div>"
      ],
      "text/plain": [
       "   Age  Salary Gender\n",
       "0   22   28000      M\n",
       "1   30       0      F\n",
       "2   23   46000      M\n",
       "3   25   42000      M\n",
       "4   24   55000      F"
      ]
     },
     "execution_count": 212,
     "metadata": {},
     "output_type": "execute_result"
    }
   ],
   "source": [
    "# 3.3 replace middle value\n",
    "z=df1.copy()\n",
    "z.iloc[1,1]=0\n",
    "z"
   ]
  },
  {
   "cell_type": "code",
   "execution_count": 213,
   "id": "9e7d5ff5",
   "metadata": {},
   "outputs": [
    {
     "data": {
      "text/html": [
       "<div>\n",
       "<style scoped>\n",
       "    .dataframe tbody tr th:only-of-type {\n",
       "        vertical-align: middle;\n",
       "    }\n",
       "\n",
       "    .dataframe tbody tr th {\n",
       "        vertical-align: top;\n",
       "    }\n",
       "\n",
       "    .dataframe thead th {\n",
       "        text-align: right;\n",
       "    }\n",
       "</style>\n",
       "<table border=\"1\" class=\"dataframe\">\n",
       "  <thead>\n",
       "    <tr style=\"text-align: right;\">\n",
       "      <th></th>\n",
       "      <th>Age</th>\n",
       "      <th>Salary</th>\n",
       "      <th>Gender</th>\n",
       "    </tr>\n",
       "  </thead>\n",
       "  <tbody>\n",
       "    <tr>\n",
       "      <th>0</th>\n",
       "      <td>22</td>\n",
       "      <td>28000</td>\n",
       "      <td>M</td>\n",
       "    </tr>\n",
       "    <tr>\n",
       "      <th>1</th>\n",
       "      <td>0</td>\n",
       "      <td>0</td>\n",
       "      <td>0</td>\n",
       "    </tr>\n",
       "    <tr>\n",
       "      <th>2</th>\n",
       "      <td>1</td>\n",
       "      <td>1</td>\n",
       "      <td>1</td>\n",
       "    </tr>\n",
       "    <tr>\n",
       "      <th>3</th>\n",
       "      <td>25</td>\n",
       "      <td>42000</td>\n",
       "      <td>M</td>\n",
       "    </tr>\n",
       "    <tr>\n",
       "      <th>4</th>\n",
       "      <td>24</td>\n",
       "      <td>55000</td>\n",
       "      <td>F</td>\n",
       "    </tr>\n",
       "  </tbody>\n",
       "</table>\n",
       "</div>"
      ],
      "text/plain": [
       "   Age  Salary Gender\n",
       "0   22   28000      M\n",
       "1    0       0      0\n",
       "2    1       1      1\n",
       "3   25   42000      M\n",
       "4   24   55000      F"
      ]
     },
     "execution_count": 213,
     "metadata": {},
     "output_type": "execute_result"
    }
   ],
   "source": [
    "# 3.4 multiple row with multiple value\n",
    "p=df1.copy()\n",
    "p.iloc[[1,2]]=[[0,0,0],[1,1,1]]\n",
    "p"
   ]
  },
  {
   "cell_type": "code",
   "execution_count": 214,
   "id": "fbb28047",
   "metadata": {},
   "outputs": [
    {
     "data": {
      "text/html": [
       "<div>\n",
       "<style scoped>\n",
       "    .dataframe tbody tr th:only-of-type {\n",
       "        vertical-align: middle;\n",
       "    }\n",
       "\n",
       "    .dataframe tbody tr th {\n",
       "        vertical-align: top;\n",
       "    }\n",
       "\n",
       "    .dataframe thead th {\n",
       "        text-align: right;\n",
       "    }\n",
       "</style>\n",
       "<table border=\"1\" class=\"dataframe\">\n",
       "  <thead>\n",
       "    <tr style=\"text-align: right;\">\n",
       "      <th></th>\n",
       "      <th>Age</th>\n",
       "      <th>Salary</th>\n",
       "      <th>Gender</th>\n",
       "    </tr>\n",
       "  </thead>\n",
       "  <tbody>\n",
       "    <tr>\n",
       "      <th>0</th>\n",
       "      <td>0</td>\n",
       "      <td>28000</td>\n",
       "      <td>0</td>\n",
       "    </tr>\n",
       "    <tr>\n",
       "      <th>1</th>\n",
       "      <td>0</td>\n",
       "      <td>17000</td>\n",
       "      <td>0</td>\n",
       "    </tr>\n",
       "    <tr>\n",
       "      <th>2</th>\n",
       "      <td>0</td>\n",
       "      <td>46000</td>\n",
       "      <td>0</td>\n",
       "    </tr>\n",
       "    <tr>\n",
       "      <th>3</th>\n",
       "      <td>0</td>\n",
       "      <td>42000</td>\n",
       "      <td>0</td>\n",
       "    </tr>\n",
       "    <tr>\n",
       "      <th>4</th>\n",
       "      <td>0</td>\n",
       "      <td>55000</td>\n",
       "      <td>0</td>\n",
       "    </tr>\n",
       "  </tbody>\n",
       "</table>\n",
       "</div>"
      ],
      "text/plain": [
       "   Age  Salary  Gender\n",
       "0    0   28000       0\n",
       "1    0   17000       0\n",
       "2    0   46000       0\n",
       "3    0   42000       0\n",
       "4    0   55000       0"
      ]
     },
     "execution_count": 214,
     "metadata": {},
     "output_type": "execute_result"
    }
   ],
   "source": [
    "# 3.5 multiple column with multiple value\n",
    "q=df1.copy()\n",
    "q[['Age','Gender']]=[0,0],[0,0],[0,0],[0,0],[0,0]   # Matches 5 rows, 2 columns shape.\n",
    "q"
   ]
  },
  {
   "cell_type": "code",
   "execution_count": 215,
   "id": "2e7333ae",
   "metadata": {},
   "outputs": [
    {
     "name": "stdout",
     "output_type": "stream",
     "text": [
      "    c1  c2  c3\n",
      "r2  40  50  60\n",
      "r3  70  80  90 \n",
      "\n",
      "    c1  c2  c3\n",
      "r1  10  20  30\n",
      "r2  40  50  60\n"
     ]
    }
   ],
   "source": [
    "# 4.1 drop single row\n",
    "a=df.copy()\n",
    "print(a.drop(index='r1'),'\\n') \n",
    "print(a.drop('r3',axis=0))  # axis, 0=row 1=column"
   ]
  },
  {
   "cell_type": "code",
   "execution_count": 225,
   "id": "de835681",
   "metadata": {},
   "outputs": [
    {
     "name": "stdout",
     "output_type": "stream",
     "text": [
      "    c1  c2  c3\n",
      "r2  40  50  60 \n",
      "\n",
      "    c1  c2  c3\n",
      "r3  70  80  90\n"
     ]
    }
   ],
   "source": [
    "# 4.2 drop multiple row\n",
    "b=df.copy()\n",
    "print(b.drop(index=['r1','r3']),'\\n')\n",
    "print(b.drop(['r1','r2'],axis=0))"
   ]
  },
  {
   "cell_type": "code",
   "execution_count": 220,
   "id": "104ed01d",
   "metadata": {},
   "outputs": [
    {
     "name": "stdout",
     "output_type": "stream",
     "text": [
      "    c1  c3\n",
      "r1  10  30\n",
      "r2  40  60\n",
      "r3  70  90 \n",
      "\n",
      "    c1  c2\n",
      "r1  10  20\n",
      "r2  40  50\n",
      "r3  70  80\n"
     ]
    }
   ],
   "source": [
    "# 4.3 drop single column\n",
    "c=df.copy()\n",
    "print(c.drop(columns='c2'),'\\n')\n",
    "print(df.drop('c3',axis=1,inplace=False))   # here inplace ture mean change in original dataframe"
   ]
  },
  {
   "cell_type": "code",
   "execution_count": 227,
   "id": "2b66263c",
   "metadata": {},
   "outputs": [
    {
     "name": "stdout",
     "output_type": "stream",
     "text": [
      "    c3\n",
      "r1  30\n",
      "r2  60\n",
      "r3  90 \n",
      "\n",
      "    c1\n",
      "r1  10\n",
      "r2  40\n",
      "r3  70\n"
     ]
    }
   ],
   "source": [
    "# 4.4 drop multiple column \n",
    "d=df.copy()\n",
    "print(d.drop(columns=['c1','c2']),'\\n')\n",
    "print(d.drop(['c2','c3'],axis=1))"
   ]
  },
  {
   "cell_type": "code",
   "execution_count": 238,
   "id": "25de9945",
   "metadata": {},
   "outputs": [
    {
     "data": {
      "text/html": [
       "<div>\n",
       "<style scoped>\n",
       "    .dataframe tbody tr th:only-of-type {\n",
       "        vertical-align: middle;\n",
       "    }\n",
       "\n",
       "    .dataframe tbody tr th {\n",
       "        vertical-align: top;\n",
       "    }\n",
       "\n",
       "    .dataframe thead th {\n",
       "        text-align: right;\n",
       "    }\n",
       "</style>\n",
       "<table border=\"1\" class=\"dataframe\">\n",
       "  <thead>\n",
       "    <tr style=\"text-align: right;\">\n",
       "      <th></th>\n",
       "      <th>c1</th>\n",
       "      <th>c2</th>\n",
       "      <th>c3</th>\n",
       "    </tr>\n",
       "  </thead>\n",
       "  <tbody>\n",
       "    <tr>\n",
       "      <th>r1</th>\n",
       "      <td>10</td>\n",
       "      <td>20</td>\n",
       "      <td>30</td>\n",
       "    </tr>\n",
       "    <tr>\n",
       "      <th>r2</th>\n",
       "      <td>40</td>\n",
       "      <td>50</td>\n",
       "      <td>60</td>\n",
       "    </tr>\n",
       "    <tr>\n",
       "      <th>r3</th>\n",
       "      <td>70</td>\n",
       "      <td>80</td>\n",
       "      <td>90</td>\n",
       "    </tr>\n",
       "    <tr>\n",
       "      <th>r4</th>\n",
       "      <td>100</td>\n",
       "      <td>110</td>\n",
       "      <td>120</td>\n",
       "    </tr>\n",
       "  </tbody>\n",
       "</table>\n",
       "</div>"
      ],
      "text/plain": [
       "     c1   c2   c3\n",
       "r1   10   20   30\n",
       "r2   40   50   60\n",
       "r3   70   80   90\n",
       "r4  100  110  120"
      ]
     },
     "execution_count": 238,
     "metadata": {},
     "output_type": "execute_result"
    }
   ],
   "source": [
    "# 5.1 add single row\n",
    "j=df.copy()\n",
    "j.loc['r4'] = [100, 110, 120]\n",
    "j"
   ]
  },
  {
   "cell_type": "code",
   "execution_count": 239,
   "id": "a74f23e8",
   "metadata": {},
   "outputs": [
    {
     "data": {
      "text/html": [
       "<div>\n",
       "<style scoped>\n",
       "    .dataframe tbody tr th:only-of-type {\n",
       "        vertical-align: middle;\n",
       "    }\n",
       "\n",
       "    .dataframe tbody tr th {\n",
       "        vertical-align: top;\n",
       "    }\n",
       "\n",
       "    .dataframe thead th {\n",
       "        text-align: right;\n",
       "    }\n",
       "</style>\n",
       "<table border=\"1\" class=\"dataframe\">\n",
       "  <thead>\n",
       "    <tr style=\"text-align: right;\">\n",
       "      <th></th>\n",
       "      <th>c1</th>\n",
       "      <th>c2</th>\n",
       "      <th>c3</th>\n",
       "      <th>c4</th>\n",
       "    </tr>\n",
       "  </thead>\n",
       "  <tbody>\n",
       "    <tr>\n",
       "      <th>r1</th>\n",
       "      <td>10</td>\n",
       "      <td>20</td>\n",
       "      <td>30</td>\n",
       "      <td>100</td>\n",
       "    </tr>\n",
       "    <tr>\n",
       "      <th>r2</th>\n",
       "      <td>40</td>\n",
       "      <td>50</td>\n",
       "      <td>60</td>\n",
       "      <td>200</td>\n",
       "    </tr>\n",
       "    <tr>\n",
       "      <th>r3</th>\n",
       "      <td>70</td>\n",
       "      <td>80</td>\n",
       "      <td>90</td>\n",
       "      <td>300</td>\n",
       "    </tr>\n",
       "  </tbody>\n",
       "</table>\n",
       "</div>"
      ],
      "text/plain": [
       "    c1  c2  c3   c4\n",
       "r1  10  20  30  100\n",
       "r2  40  50  60  200\n",
       "r3  70  80  90  300"
      ]
     },
     "execution_count": 239,
     "metadata": {},
     "output_type": "execute_result"
    }
   ],
   "source": [
    "# 5.2 add single column\n",
    "i=df.copy()\n",
    "i['c4']=[100,200,300]\n",
    "i"
   ]
  },
  {
   "cell_type": "code",
   "execution_count": null,
   "id": "3ec1773e",
   "metadata": {},
   "outputs": [],
   "source": []
  }
 ],
 "metadata": {
  "kernelspec": {
   "display_name": "Python 3",
   "language": "python",
   "name": "python3"
  },
  "language_info": {
   "codemirror_mode": {
    "name": "ipython",
    "version": 3
   },
   "file_extension": ".py",
   "mimetype": "text/x-python",
   "name": "python",
   "nbconvert_exporter": "python",
   "pygments_lexer": "ipython3",
   "version": "3.10.18"
  }
 },
 "nbformat": 4,
 "nbformat_minor": 5
}
