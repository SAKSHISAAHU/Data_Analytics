{
 "cells": [
  {
   "cell_type": "markdown",
   "id": "90288244",
   "metadata": {},
   "source": [
    "## **Univariate Statistical Measures**"
   ]
  },
  {
   "cell_type": "code",
   "execution_count": 45,
   "id": "c0b8debe",
   "metadata": {},
   "outputs": [],
   "source": [
    "import numpy as np\n",
    "import pandas as pd"
   ]
  },
  {
   "cell_type": "code",
   "execution_count": 46,
   "id": "f08b93fd",
   "metadata": {},
   "outputs": [
    {
     "data": {
      "text/html": [
       "<div>\n",
       "<style scoped>\n",
       "    .dataframe tbody tr th:only-of-type {\n",
       "        vertical-align: middle;\n",
       "    }\n",
       "\n",
       "    .dataframe tbody tr th {\n",
       "        vertical-align: top;\n",
       "    }\n",
       "\n",
       "    .dataframe thead th {\n",
       "        text-align: right;\n",
       "    }\n",
       "</style>\n",
       "<table border=\"1\" class=\"dataframe\">\n",
       "  <thead>\n",
       "    <tr style=\"text-align: right;\">\n",
       "      <th></th>\n",
       "      <th>age</th>\n",
       "    </tr>\n",
       "  </thead>\n",
       "  <tbody>\n",
       "    <tr>\n",
       "      <th>0</th>\n",
       "      <td>1</td>\n",
       "    </tr>\n",
       "    <tr>\n",
       "      <th>1</th>\n",
       "      <td>2</td>\n",
       "    </tr>\n",
       "    <tr>\n",
       "      <th>2</th>\n",
       "      <td>3</td>\n",
       "    </tr>\n",
       "    <tr>\n",
       "      <th>3</th>\n",
       "      <td>4</td>\n",
       "    </tr>\n",
       "    <tr>\n",
       "      <th>4</th>\n",
       "      <td>5</td>\n",
       "    </tr>\n",
       "  </tbody>\n",
       "</table>\n",
       "</div>"
      ],
      "text/plain": [
       "   age\n",
       "0    1\n",
       "1    2\n",
       "2    3\n",
       "3    4\n",
       "4    5"
      ]
     },
     "execution_count": 46,
     "metadata": {},
     "output_type": "execute_result"
    }
   ],
   "source": [
    "data=pd.DataFrame({'age':[1,2,3,4,5]})\n",
    "data"
   ]
  },
  {
   "cell_type": "markdown",
   "id": "eae783d0",
   "metadata": {},
   "source": [
    "## **1. Measures of central tendency**"
   ]
  },
  {
   "cell_type": "markdown",
   "id": "82db06ec",
   "metadata": {},
   "source": [
    "### *1.1 Mean*\n",
    "- Average\n",
    "- It is represented by, **Σx** (if column name is x)\n",
    "- mean = sum of values/ total no. of values\n",
    "- used with continous variable only\n",
    "- population mean => µ => **µx = Σx / N** (if column name is x)\n",
    "- sample mean => **x̅ = Σx / n** (if column name is x)"
   ]
  },
  {
   "cell_type": "code",
   "execution_count": 47,
   "id": "134b3ff4",
   "metadata": {},
   "outputs": [
    {
     "name": "stdout",
     "output_type": "stream",
     "text": [
      "3.0\n"
     ]
    }
   ],
   "source": [
    "mean = data['age'].mean()\n",
    "print(mean)"
   ]
  },
  {
   "cell_type": "code",
   "execution_count": 48,
   "id": "e07438e5",
   "metadata": {},
   "outputs": [
    {
     "name": "stdout",
     "output_type": "stream",
     "text": [
      "3.0\n"
     ]
    }
   ],
   "source": [
    "# mean() working\n",
    "mean=data['age'].sum()/len(data)\n",
    "print(mean)\n",
    "                # if column have any null or empty value then it will be ignored."
   ]
  },
  {
   "cell_type": "markdown",
   "id": "08a12bb7",
   "metadata": {},
   "source": [
    "### *1.2 Median*\n",
    "- Center value\n",
    "- In odd nos, center position value.\n",
    "- In even nos, average of two center values"
   ]
  },
  {
   "cell_type": "code",
   "execution_count": 49,
   "id": "4d6ea5b1",
   "metadata": {},
   "outputs": [
    {
     "name": "stdout",
     "output_type": "stream",
     "text": [
      "3.0\n"
     ]
    }
   ],
   "source": [
    "median = data['age'].median()\n",
    "print(median)   # column will be sorted first then median will applied.\n",
    "                # if column have any null or empty value then it will be ignored."
   ]
  },
  {
   "cell_type": "markdown",
   "id": "627d7004",
   "metadata": {},
   "source": [
    "### *1.3 Mode*\n",
    "- most frequent value\n",
    "- the value which is repeated most number of time.\n",
    "- if column have 1 repeated value then it is called uni-modal data\n",
    "- if column have 2 repeated values then it is called bi-variate data\n",
    "- if column have more than 2 repated values then it is called multi-modal data"
   ]
  },
  {
   "cell_type": "code",
   "execution_count": 50,
   "id": "9045f85f",
   "metadata": {},
   "outputs": [
    {
     "name": "stdout",
     "output_type": "stream",
     "text": [
      "0    1\n",
      "1    2\n",
      "2    3\n",
      "3    4\n",
      "4    5\n",
      "Name: age, dtype: int64\n"
     ]
    }
   ],
   "source": [
    "mode = data['age'].mode()\n",
    "print(mode) # it is multi-modal data"
   ]
  },
  {
   "cell_type": "code",
   "execution_count": 51,
   "id": "260fc268",
   "metadata": {},
   "outputs": [
    {
     "data": {
      "text/plain": [
       "np.int64(2)"
      ]
     },
     "execution_count": 51,
     "metadata": {},
     "output_type": "execute_result"
    }
   ],
   "source": [
    "data['age'].mode()[1]"
   ]
  },
  {
   "cell_type": "markdown",
   "id": "222f4198",
   "metadata": {},
   "source": [
    "## **2. Measure of Dispression / Spread**"
   ]
  },
  {
   "cell_type": "markdown",
   "id": "6b5253f6",
   "metadata": {},
   "source": [
    "### *2.1 Minimum*"
   ]
  },
  {
   "cell_type": "code",
   "execution_count": 52,
   "id": "a67bf1ce",
   "metadata": {},
   "outputs": [
    {
     "name": "stdout",
     "output_type": "stream",
     "text": [
      "1\n"
     ]
    }
   ],
   "source": [
    "print(data['age'].min())"
   ]
  },
  {
   "cell_type": "markdown",
   "id": "74701cde",
   "metadata": {},
   "source": [
    "### *2.2 Maximum*"
   ]
  },
  {
   "cell_type": "code",
   "execution_count": 53,
   "id": "dad152b6",
   "metadata": {},
   "outputs": [
    {
     "name": "stdout",
     "output_type": "stream",
     "text": [
      "5\n"
     ]
    }
   ],
   "source": [
    "print(data['age'].max())"
   ]
  },
  {
   "cell_type": "markdown",
   "id": "0c3e1490",
   "metadata": {},
   "source": [
    "### *2.3 Range*\n",
    "- max value - min value"
   ]
  },
  {
   "cell_type": "code",
   "execution_count": 54,
   "id": "ef91aad8",
   "metadata": {},
   "outputs": [
    {
     "name": "stdout",
     "output_type": "stream",
     "text": [
      "4\n"
     ]
    }
   ],
   "source": [
    "print(data['age'].max() - data['age'].min())"
   ]
  },
  {
   "cell_type": "markdown",
   "id": "5011acfa",
   "metadata": {},
   "source": [
    "### *2.4 Deviation*\n",
    "- how much the value differ from the mean value\n",
    "- less the deviation better the data\n",
    "- when deviation is less prediction is easy\n",
    "- represented as, **(xi - x̅)** here xi is data points of data and x̅ is mean"
   ]
  },
  {
   "cell_type": "code",
   "execution_count": null,
   "id": "e98d42b1",
   "metadata": {},
   "outputs": [
    {
     "name": "stdout",
     "output_type": "stream",
     "text": [
      "0   -2.0\n",
      "1   -1.0\n",
      "2    0.0\n",
      "3    1.0\n",
      "4    2.0\n",
      "Name: age, dtype: float64\n"
     ]
    }
   ],
   "source": [
    "print(data['age']-data['age'].mean())"
   ]
  },
  {
   "cell_type": "markdown",
   "id": "a8a0837a",
   "metadata": {},
   "source": [
    "### *2.5 Mean Deviation*\n",
    "- represented as Σ(xi - x̅)/ N\n",
    "- everytime the sum of deviation will always be zero, because the mean is the balance or center point and from there will be equal no of +ve and -ve values.\n",
    "- to overcome this problem we have absolute or square deviation."
   ]
  },
  {
   "cell_type": "code",
   "execution_count": 61,
   "id": "d15adf9a",
   "metadata": {},
   "outputs": [
    {
     "name": "stdout",
     "output_type": "stream",
     "text": [
      "0.0\n"
     ]
    }
   ],
   "source": [
    "a= data['age']-data['age'].mean()\n",
    "b=a.mean().sum()\n",
    "\n",
    "print(b)"
   ]
  },
  {
   "cell_type": "markdown",
   "id": "588c5ad7",
   "metadata": {},
   "source": [
    "### *2.6 Absolute Deviation*\n",
    "- represented as |xi - x̅|\n",
    "- while considering the positive value only check how much the value differ from the mean"
   ]
  },
  {
   "cell_type": "code",
   "execution_count": 62,
   "id": "cb826b44",
   "metadata": {},
   "outputs": [
    {
     "name": "stdout",
     "output_type": "stream",
     "text": [
      "0    2.0\n",
      "1    1.0\n",
      "2    0.0\n",
      "3    1.0\n",
      "4    2.0\n",
      "Name: age, dtype: float64\n"
     ]
    }
   ],
   "source": [
    "a=data['age']-data['age'].mean()\n",
    "b=a.abs()\n",
    "print(b)"
   ]
  },
  {
   "cell_type": "markdown",
   "id": "41326757",
   "metadata": {},
   "source": [
    "### *2.7 Mean Ansolute Deviation*\n",
    "- respresnted as, Σ|x - x̅| / N\n",
    "- It is the average of absolute deviation from center or mean value."
   ]
  },
  {
   "cell_type": "code",
   "execution_count": 74,
   "id": "53e14658",
   "metadata": {},
   "outputs": [
    {
     "name": "stdout",
     "output_type": "stream",
     "text": [
      "1.2\n"
     ]
    }
   ],
   "source": [
    "a=data['age'] - data['age'].mean()\n",
    "b=a.abs()\n",
    "c=b.mean()\n",
    "print(c)"
   ]
  },
  {
   "cell_type": "markdown",
   "id": "3d9ebb49",
   "metadata": {},
   "source": [
    "### *2.8 Square Deviation*\n",
    "- represented as, (x - x̅)²\n",
    "- It is the Square of difference between the data points."
   ]
  },
  {
   "cell_type": "code",
   "execution_count": 78,
   "id": "1918c706",
   "metadata": {},
   "outputs": [
    {
     "name": "stdout",
     "output_type": "stream",
     "text": [
      "0    4.0\n",
      "1    1.0\n",
      "2    0.0\n",
      "3    1.0\n",
      "4    4.0\n",
      "Name: age, dtype: float64\n"
     ]
    }
   ],
   "source": [
    "a=data['age'] - data['age'].mean()\n",
    "b=a**2\n",
    "print(b)"
   ]
  },
  {
   "cell_type": "markdown",
   "id": "573a79a3",
   "metadata": {},
   "source": [
    "### *2.9 Mean Square Deviation or Variance*\n",
    "- represented as, \n",
    "    - population variance -> **𝞼² = Σ(x - µ)²/ N**\n",
    "    - sample variance  ->  **s² = Σ(x - x̅)²/ N-1**\n",
    "- It is the average of square of the difference between the datapoints."
   ]
  },
  {
   "cell_type": "code",
   "execution_count": 79,
   "id": "a44573c9",
   "metadata": {},
   "outputs": [
    {
     "name": "stdout",
     "output_type": "stream",
     "text": [
      "2.0\n"
     ]
    }
   ],
   "source": [
    "# population varianve\n",
    "\n",
    "print(data['age'].var(ddof=0))"
   ]
  },
  {
   "cell_type": "code",
   "execution_count": 81,
   "id": "18ea0397",
   "metadata": {},
   "outputs": [
    {
     "name": "stdout",
     "output_type": "stream",
     "text": [
      "2.5\n"
     ]
    }
   ],
   "source": [
    "# sample variance\n",
    "\n",
    "print(data['age'].var(ddof=1))"
   ]
  },
  {
   "cell_type": "markdown",
   "id": "e1dc0c0e",
   "metadata": {},
   "source": [
    "### *2.9 Standard Deviation or Root Mean Square Deviation*\n",
    "- represented as, \n",
    "    - population SD -> **𝞼² = √ Σ(x - µ)²/ N**\n",
    "    - sample SD  ->  **s² = √ Σ(x - x̅)²/ N-1**"
   ]
  },
  {
   "cell_type": "code",
   "execution_count": 83,
   "id": "b8380bee",
   "metadata": {},
   "outputs": [
    {
     "name": "stdout",
     "output_type": "stream",
     "text": [
      "1.4142135623730951\n"
     ]
    }
   ],
   "source": [
    "# population SD\n",
    "\n",
    "print(data['age'].std(ddof=0))"
   ]
  },
  {
   "cell_type": "code",
   "execution_count": 84,
   "id": "3be2eeb6",
   "metadata": {},
   "outputs": [
    {
     "name": "stdout",
     "output_type": "stream",
     "text": [
      "1.5811388300841898\n"
     ]
    }
   ],
   "source": [
    "# sample SD\n",
    "\n",
    "print(data['age'].std(ddof=1))"
   ]
  },
  {
   "cell_type": "code",
   "execution_count": null,
   "id": "2765cee9",
   "metadata": {},
   "outputs": [],
   "source": []
  }
 ],
 "metadata": {
  "kernelspec": {
   "display_name": "Python 3",
   "language": "python",
   "name": "python3"
  },
  "language_info": {
   "codemirror_mode": {
    "name": "ipython",
    "version": 3
   },
   "file_extension": ".py",
   "mimetype": "text/x-python",
   "name": "python",
   "nbconvert_exporter": "python",
   "pygments_lexer": "ipython3",
   "version": "3.10.16"
  }
 },
 "nbformat": 4,
 "nbformat_minor": 5
}
