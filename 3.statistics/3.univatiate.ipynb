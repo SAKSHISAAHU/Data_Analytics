{
 "cells": [
  {
   "cell_type": "markdown",
   "id": "90288244",
   "metadata": {},
   "source": [
    "## **Univariate Statistical Measures**"
   ]
  },
  {
   "cell_type": "code",
   "execution_count": 2,
   "id": "c0b8debe",
   "metadata": {},
   "outputs": [],
   "source": [
    "import numpy as np\n",
    "import pandas as pd"
   ]
  },
  {
   "cell_type": "code",
   "execution_count": 3,
   "id": "f08b93fd",
   "metadata": {},
   "outputs": [
    {
     "data": {
      "text/html": [
       "<div>\n",
       "<style scoped>\n",
       "    .dataframe tbody tr th:only-of-type {\n",
       "        vertical-align: middle;\n",
       "    }\n",
       "\n",
       "    .dataframe tbody tr th {\n",
       "        vertical-align: top;\n",
       "    }\n",
       "\n",
       "    .dataframe thead th {\n",
       "        text-align: right;\n",
       "    }\n",
       "</style>\n",
       "<table border=\"1\" class=\"dataframe\">\n",
       "  <thead>\n",
       "    <tr style=\"text-align: right;\">\n",
       "      <th></th>\n",
       "      <th>age</th>\n",
       "    </tr>\n",
       "  </thead>\n",
       "  <tbody>\n",
       "    <tr>\n",
       "      <th>0</th>\n",
       "      <td>10</td>\n",
       "    </tr>\n",
       "    <tr>\n",
       "      <th>1</th>\n",
       "      <td>23</td>\n",
       "    </tr>\n",
       "    <tr>\n",
       "      <th>2</th>\n",
       "      <td>14</td>\n",
       "    </tr>\n",
       "    <tr>\n",
       "      <th>3</th>\n",
       "      <td>6</td>\n",
       "    </tr>\n",
       "    <tr>\n",
       "      <th>4</th>\n",
       "      <td>23</td>\n",
       "    </tr>\n",
       "    <tr>\n",
       "      <th>5</th>\n",
       "      <td>9</td>\n",
       "    </tr>\n",
       "    <tr>\n",
       "      <th>6</th>\n",
       "      <td>55</td>\n",
       "    </tr>\n",
       "    <tr>\n",
       "      <th>7</th>\n",
       "      <td>32</td>\n",
       "    </tr>\n",
       "    <tr>\n",
       "      <th>8</th>\n",
       "      <td>12</td>\n",
       "    </tr>\n",
       "    <tr>\n",
       "      <th>9</th>\n",
       "      <td>6</td>\n",
       "    </tr>\n",
       "    <tr>\n",
       "      <th>10</th>\n",
       "      <td>10</td>\n",
       "    </tr>\n",
       "  </tbody>\n",
       "</table>\n",
       "</div>"
      ],
      "text/plain": [
       "    age\n",
       "0    10\n",
       "1    23\n",
       "2    14\n",
       "3     6\n",
       "4    23\n",
       "5     9\n",
       "6    55\n",
       "7    32\n",
       "8    12\n",
       "9     6\n",
       "10   10"
      ]
     },
     "execution_count": 3,
     "metadata": {},
     "output_type": "execute_result"
    }
   ],
   "source": [
    "data=pd.read_excel(\"demo.xlsx\")\n",
    "data"
   ]
  },
  {
   "cell_type": "markdown",
   "id": "eae783d0",
   "metadata": {},
   "source": [
    "## 1. Measures of central tendency"
   ]
  },
  {
   "cell_type": "markdown",
   "id": "82db06ec",
   "metadata": {},
   "source": [
    "### 1.1 Mean\n",
    "- Average\n",
    "- It is represented by, **Σx** (if column name is x)\n",
    "- mean = sum of values/ total no. of values\n",
    "- used with continous variable only\n",
    "- population mean => µ => **µx = Σx / N** (if column name is x)\n",
    "- sample mean => **x̅ = Σx / n** (if column name is x)"
   ]
  },
  {
   "cell_type": "code",
   "execution_count": 4,
   "id": "134b3ff4",
   "metadata": {},
   "outputs": [
    {
     "name": "stdout",
     "output_type": "stream",
     "text": [
      "18.181818181818183\n"
     ]
    }
   ],
   "source": [
    "mean = data['age'].mean()\n",
    "print(mean)"
   ]
  },
  {
   "cell_type": "code",
   "execution_count": 5,
   "id": "e07438e5",
   "metadata": {},
   "outputs": [
    {
     "name": "stdout",
     "output_type": "stream",
     "text": [
      "18.181818181818183\n"
     ]
    }
   ],
   "source": [
    "# mean() working\n",
    "mean=data['age'].sum()/len(data)\n",
    "print(mean)\n",
    "                # if column have any null or empty value then it will be ignored."
   ]
  },
  {
   "cell_type": "markdown",
   "id": "08a12bb7",
   "metadata": {},
   "source": [
    "### 1.2 Median\n",
    "- Center value\n",
    "- In odd nos, center position value.\n",
    "- In even nos, average of two center values"
   ]
  },
  {
   "cell_type": "code",
   "execution_count": 6,
   "id": "4d6ea5b1",
   "metadata": {},
   "outputs": [
    {
     "name": "stdout",
     "output_type": "stream",
     "text": [
      "12.0\n"
     ]
    }
   ],
   "source": [
    "median = data['age'].median()\n",
    "print(median)   # column will be sorted first then median will applied.\n",
    "                # if column have any null or empty value then it will be ignored."
   ]
  },
  {
   "cell_type": "markdown",
   "id": "627d7004",
   "metadata": {},
   "source": [
    "### 1.3 Mode\n",
    "- most frequent value\n",
    "- the value which is repeated most number of time.\n",
    "- if column have 1 repeated value then it is called uni-modal data\n",
    "- if column have 2 repeated values then it is called bi-variate data\n",
    "- if column have more than 2 repated values then it is called multi-modal data"
   ]
  },
  {
   "cell_type": "code",
   "execution_count": 7,
   "id": "9045f85f",
   "metadata": {},
   "outputs": [
    {
     "name": "stdout",
     "output_type": "stream",
     "text": [
      "0     6\n",
      "1    10\n",
      "2    23\n",
      "Name: age, dtype: int64\n"
     ]
    }
   ],
   "source": [
    "mode = data['age'].mode()\n",
    "print(mode) # it is multi-modal data"
   ]
  },
  {
   "cell_type": "code",
   "execution_count": 8,
   "id": "260fc268",
   "metadata": {},
   "outputs": [
    {
     "data": {
      "text/plain": [
       "np.int64(10)"
      ]
     },
     "execution_count": 8,
     "metadata": {},
     "output_type": "execute_result"
    }
   ],
   "source": [
    "data['age'].mode()[1]"
   ]
  },
  {
   "cell_type": "code",
   "execution_count": 10,
   "id": "a44573c9",
   "metadata": {},
   "outputs": [
    {
     "name": "stdout",
     "output_type": "stream",
     "text": [
      "196.69421487603302\n"
     ]
    }
   ],
   "source": [
    "print(data['age'].var(ddof=0))"
   ]
  },
  {
   "cell_type": "code",
   "execution_count": null,
   "id": "18ea0397",
   "metadata": {},
   "outputs": [],
   "source": []
  }
 ],
 "metadata": {
  "kernelspec": {
   "display_name": "Python 3",
   "language": "python",
   "name": "python3"
  },
  "language_info": {
   "codemirror_mode": {
    "name": "ipython",
    "version": 3
   },
   "file_extension": ".py",
   "mimetype": "text/x-python",
   "name": "python",
   "nbconvert_exporter": "python",
   "pygments_lexer": "ipython3",
   "version": "3.10.16"
  }
 },
 "nbformat": 4,
 "nbformat_minor": 5
}
