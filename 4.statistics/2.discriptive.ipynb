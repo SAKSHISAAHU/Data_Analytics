{
 "cells": [
  {
   "cell_type": "markdown",
   "id": "e9fe27da",
   "metadata": {},
   "source": [
    "## **Types of Discriptive Statisticas Measures**"
   ]
  },
  {
   "cell_type": "markdown",
   "id": "62cfe664",
   "metadata": {},
   "source": [
    "### **Univariate Statistical Measures**\n",
    "1. Meausre of central tendency\n",
    "    - Mean\n",
    "    - Median\n",
    "    - Mode\n",
    "\n",
    "2. Mesures of dispersion or spread\n",
    "    - Minimum\n",
    "    - Maximum\n",
    "    - Range\n",
    "    - Deviation\n",
    "    - Absolute Deviation\n",
    "    - Mean Absolute Deviation\n",
    "    - Square Deviation\n",
    "    - Mean Square Derviation\n",
    "    - Variance\n",
    "    - Standard Deviation\n",
    "    - Percentile\n",
    "    - Quartile\n",
    "    - Inter Quartile Range\n",
    "    - Upper Limit\n",
    "    - Lower Limit\n",
    "\n",
    "3. Meaures of shape\n",
    "    - Skewness\n",
    "    - Kurtosis\n",
    "\n",
    "\n",
    "### **Bivariate Statistical Mesures**\n",
    "1. Covariance\n",
    "2. Corelation\n",
    "\n",
    "\n",
    "### **Multivariate Statistical Mesures**\n",
    "1. Covariance Matrix\n",
    "2. Corelation Matrix"
   ]
  }
 ],
 "metadata": {
  "language_info": {
   "name": "python"
  }
 },
 "nbformat": 4,
 "nbformat_minor": 5
}
