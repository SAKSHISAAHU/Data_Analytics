{
 "cells": [
  {
   "cell_type": "markdown",
   "id": "90288244",
   "metadata": {},
   "source": [
    "## **Univariate Statistical Measures**"
   ]
  },
  {
   "cell_type": "code",
   "execution_count": 1,
   "id": "c0b8debe",
   "metadata": {},
   "outputs": [],
   "source": [
    "import numpy as np\n",
    "import pandas as pd"
   ]
  },
  {
   "cell_type": "code",
   "execution_count": 2,
   "id": "f08b93fd",
   "metadata": {},
   "outputs": [
    {
     "data": {
      "text/html": [
       "<div>\n",
       "<style scoped>\n",
       "    .dataframe tbody tr th:only-of-type {\n",
       "        vertical-align: middle;\n",
       "    }\n",
       "\n",
       "    .dataframe tbody tr th {\n",
       "        vertical-align: top;\n",
       "    }\n",
       "\n",
       "    .dataframe thead th {\n",
       "        text-align: right;\n",
       "    }\n",
       "</style>\n",
       "<table border=\"1\" class=\"dataframe\">\n",
       "  <thead>\n",
       "    <tr style=\"text-align: right;\">\n",
       "      <th></th>\n",
       "      <th>age</th>\n",
       "    </tr>\n",
       "  </thead>\n",
       "  <tbody>\n",
       "    <tr>\n",
       "      <th>0</th>\n",
       "      <td>1</td>\n",
       "    </tr>\n",
       "    <tr>\n",
       "      <th>1</th>\n",
       "      <td>2</td>\n",
       "    </tr>\n",
       "    <tr>\n",
       "      <th>2</th>\n",
       "      <td>3</td>\n",
       "    </tr>\n",
       "    <tr>\n",
       "      <th>3</th>\n",
       "      <td>4</td>\n",
       "    </tr>\n",
       "    <tr>\n",
       "      <th>4</th>\n",
       "      <td>5</td>\n",
       "    </tr>\n",
       "  </tbody>\n",
       "</table>\n",
       "</div>"
      ],
      "text/plain": [
       "   age\n",
       "0    1\n",
       "1    2\n",
       "2    3\n",
       "3    4\n",
       "4    5"
      ]
     },
     "execution_count": 2,
     "metadata": {},
     "output_type": "execute_result"
    }
   ],
   "source": [
    "data=pd.DataFrame({'age':[1,2,3,4,5]})\n",
    "data"
   ]
  },
  {
   "cell_type": "code",
   "execution_count": 3,
   "id": "c834778f",
   "metadata": {},
   "outputs": [
    {
     "data": {
      "text/plain": [
       "5"
      ]
     },
     "execution_count": 3,
     "metadata": {},
     "output_type": "execute_result"
    }
   ],
   "source": [
    "len(data['age'])"
   ]
  },
  {
   "cell_type": "markdown",
   "id": "eae783d0",
   "metadata": {},
   "source": [
    "## **1. Measures of central tendency**"
   ]
  },
  {
   "cell_type": "markdown",
   "id": "82db06ec",
   "metadata": {},
   "source": [
    "### *1.1 Mean*\n",
    "- Average\n",
    "- It is represented by, **Σx** (if column name is x)\n",
    "- mean = sum of values/ total no. of values\n",
    "- used with continous variable only\n",
    "- population mean => µ => **µx = Σx / N** (if column name is x)\n",
    "- sample mean => **x̅ = Σx / n** (if column name is x)"
   ]
  },
  {
   "cell_type": "code",
   "execution_count": 4,
   "id": "134b3ff4",
   "metadata": {},
   "outputs": [
    {
     "name": "stdout",
     "output_type": "stream",
     "text": [
      "3.0\n"
     ]
    }
   ],
   "source": [
    "mean = data['age'].mean()\n",
    "print(mean)"
   ]
  },
  {
   "cell_type": "code",
   "execution_count": 5,
   "id": "e07438e5",
   "metadata": {},
   "outputs": [
    {
     "name": "stdout",
     "output_type": "stream",
     "text": [
      "3.0\n"
     ]
    }
   ],
   "source": [
    "# mean() working\n",
    "mean=data['age'].sum()/len(data)\n",
    "print(mean)\n",
    "                # if column have any null or empty value then it will be ignored."
   ]
  },
  {
   "cell_type": "markdown",
   "id": "08a12bb7",
   "metadata": {},
   "source": [
    "### *1.2 Median*\n",
    "- Center value\n",
    "- In odd nos, center position value.\n",
    "- In even nos, average of two center values\n",
    "- The data should be sorted in accending order first "
   ]
  },
  {
   "cell_type": "code",
   "execution_count": 6,
   "id": "4d6ea5b1",
   "metadata": {},
   "outputs": [
    {
     "name": "stdout",
     "output_type": "stream",
     "text": [
      "3.0\n"
     ]
    }
   ],
   "source": [
    "median = data['age'].median()\n",
    "print(median)   # column will be sorted first then median will applied.\n",
    "                # if column have any null or empty value then it will be ignored."
   ]
  },
  {
   "cell_type": "markdown",
   "id": "627d7004",
   "metadata": {},
   "source": [
    "### *1.3 Mode*\n",
    "- most frequent value\n",
    "- the value which is repeated most number of time.\n",
    "- if column have 1 repeated value then it is called uni-modal data\n",
    "- if column have 2 repeated values then it is called bi-variate data\n",
    "- if column have more than 2 repated values then it is called multi-modal data"
   ]
  },
  {
   "cell_type": "code",
   "execution_count": 7,
   "id": "9045f85f",
   "metadata": {},
   "outputs": [
    {
     "name": "stdout",
     "output_type": "stream",
     "text": [
      "0    1\n",
      "1    2\n",
      "2    3\n",
      "3    4\n",
      "4    5\n",
      "Name: age, dtype: int64\n"
     ]
    }
   ],
   "source": [
    "mode = data['age'].mode()\n",
    "print(mode) # it is multi-modal data"
   ]
  },
  {
   "cell_type": "code",
   "execution_count": 8,
   "id": "260fc268",
   "metadata": {},
   "outputs": [
    {
     "data": {
      "text/plain": [
       "np.int64(2)"
      ]
     },
     "execution_count": 8,
     "metadata": {},
     "output_type": "execute_result"
    }
   ],
   "source": [
    "data['age'].mode()[1]"
   ]
  },
  {
   "cell_type": "markdown",
   "id": "222f4198",
   "metadata": {},
   "source": [
    "## **2. Measure of Dispression / Spread**"
   ]
  },
  {
   "cell_type": "markdown",
   "id": "6b5253f6",
   "metadata": {},
   "source": [
    "### *2.1 Minimum*"
   ]
  },
  {
   "cell_type": "code",
   "execution_count": 9,
   "id": "a67bf1ce",
   "metadata": {},
   "outputs": [
    {
     "name": "stdout",
     "output_type": "stream",
     "text": [
      "1\n"
     ]
    }
   ],
   "source": [
    "print(data['age'].min())"
   ]
  },
  {
   "cell_type": "markdown",
   "id": "74701cde",
   "metadata": {},
   "source": [
    "### *2.2 Maximum*"
   ]
  },
  {
   "cell_type": "code",
   "execution_count": 10,
   "id": "dad152b6",
   "metadata": {},
   "outputs": [
    {
     "name": "stdout",
     "output_type": "stream",
     "text": [
      "5\n"
     ]
    }
   ],
   "source": [
    "print(data['age'].max())"
   ]
  },
  {
   "cell_type": "markdown",
   "id": "0c3e1490",
   "metadata": {},
   "source": [
    "### *2.3 Range*\n",
    "- max value - min value"
   ]
  },
  {
   "cell_type": "code",
   "execution_count": 11,
   "id": "ef91aad8",
   "metadata": {},
   "outputs": [
    {
     "name": "stdout",
     "output_type": "stream",
     "text": [
      "4\n"
     ]
    }
   ],
   "source": [
    "print(data['age'].max() - data['age'].min())"
   ]
  },
  {
   "cell_type": "markdown",
   "id": "5011acfa",
   "metadata": {},
   "source": [
    "### *2.4 Deviation*\n",
    "- how much the value differ from the mean value\n",
    "- less the deviation better the data\n",
    "- when deviation is less prediction is easy\n",
    "- represented as, **(xi - x̅)** here xi is data points of data and x̅ is mean"
   ]
  },
  {
   "cell_type": "code",
   "execution_count": 12,
   "id": "e98d42b1",
   "metadata": {},
   "outputs": [
    {
     "name": "stdout",
     "output_type": "stream",
     "text": [
      "0   -2.0\n",
      "1   -1.0\n",
      "2    0.0\n",
      "3    1.0\n",
      "4    2.0\n",
      "Name: age, dtype: float64\n"
     ]
    }
   ],
   "source": [
    "print(data['age']-data['age'].mean())"
   ]
  },
  {
   "cell_type": "markdown",
   "id": "a8a0837a",
   "metadata": {},
   "source": [
    "### *2.5 Mean Deviation*\n",
    "- represented as Σ(xi - x̅)/ N\n",
    "- everytime the sum of deviation will always be zero, because the mean is the balance or center point and from there will be equal no of +ve and -ve values.\n",
    "- to overcome this problem we have absolute or square deviation."
   ]
  },
  {
   "cell_type": "code",
   "execution_count": 13,
   "id": "d15adf9a",
   "metadata": {},
   "outputs": [
    {
     "name": "stdout",
     "output_type": "stream",
     "text": [
      "0.0\n"
     ]
    }
   ],
   "source": [
    "a= data['age']-data['age'].mean()\n",
    "b=a.mean().sum()\n",
    "\n",
    "print(b)"
   ]
  },
  {
   "cell_type": "markdown",
   "id": "588c5ad7",
   "metadata": {},
   "source": [
    "### *2.6 Absolute Deviation*\n",
    "- represented as |xi - x̅|\n",
    "- while considering the positive value only check how much the value differ from the mean"
   ]
  },
  {
   "cell_type": "code",
   "execution_count": 14,
   "id": "cb826b44",
   "metadata": {},
   "outputs": [
    {
     "name": "stdout",
     "output_type": "stream",
     "text": [
      "0    2.0\n",
      "1    1.0\n",
      "2    0.0\n",
      "3    1.0\n",
      "4    2.0\n",
      "Name: age, dtype: float64\n"
     ]
    }
   ],
   "source": [
    "a=data['age']-data['age'].mean()\n",
    "b=a.abs()\n",
    "print(b)"
   ]
  },
  {
   "cell_type": "markdown",
   "id": "41326757",
   "metadata": {},
   "source": [
    "### *2.7 Mean Ansolute Deviation*\n",
    "- respresnted as, Σ|x - x̅| / N\n",
    "- It is the average of absolute deviation from center or mean value."
   ]
  },
  {
   "cell_type": "code",
   "execution_count": 15,
   "id": "53e14658",
   "metadata": {},
   "outputs": [
    {
     "name": "stdout",
     "output_type": "stream",
     "text": [
      "1.2\n"
     ]
    }
   ],
   "source": [
    "a=data['age'] - data['age'].mean()\n",
    "b=a.abs()\n",
    "c=b.mean()\n",
    "print(c)"
   ]
  },
  {
   "cell_type": "markdown",
   "id": "3d9ebb49",
   "metadata": {},
   "source": [
    "### *2.8 Square Deviation*\n",
    "- represented as, (x - x̅)²\n",
    "- It is the Square of difference between the data points."
   ]
  },
  {
   "cell_type": "code",
   "execution_count": 16,
   "id": "1918c706",
   "metadata": {},
   "outputs": [
    {
     "name": "stdout",
     "output_type": "stream",
     "text": [
      "0    4.0\n",
      "1    1.0\n",
      "2    0.0\n",
      "3    1.0\n",
      "4    4.0\n",
      "Name: age, dtype: float64\n"
     ]
    }
   ],
   "source": [
    "a=data['age'] - data['age'].mean()\n",
    "b=a**2\n",
    "print(b)"
   ]
  },
  {
   "cell_type": "markdown",
   "id": "573a79a3",
   "metadata": {},
   "source": [
    "### *2.9 Mean Square Deviation or Variance*\n",
    "- represented as, \n",
    "    - population variance -> **𝞼² = Σ(x - µ)²/ N**\n",
    "    - sample variance  ->  **s² = Σ(x - x̅)²/ N-1**\n",
    "- It is the average of square of the difference between the datapoints."
   ]
  },
  {
   "cell_type": "code",
   "execution_count": 17,
   "id": "a44573c9",
   "metadata": {},
   "outputs": [
    {
     "name": "stdout",
     "output_type": "stream",
     "text": [
      "2.0\n"
     ]
    }
   ],
   "source": [
    "# population varianve\n",
    "\n",
    "print(data['age'].var(ddof=0))"
   ]
  },
  {
   "cell_type": "code",
   "execution_count": 18,
   "id": "18ea0397",
   "metadata": {},
   "outputs": [
    {
     "name": "stdout",
     "output_type": "stream",
     "text": [
      "2.5\n"
     ]
    }
   ],
   "source": [
    "# sample variance\n",
    "\n",
    "print(data['age'].var(ddof=1))"
   ]
  },
  {
   "cell_type": "markdown",
   "id": "e1dc0c0e",
   "metadata": {},
   "source": [
    "### *2.9 Standard Deviation or Root Mean Square Deviation*\n",
    "- represented as, \n",
    "    - population SD -> **𝞼² = √ Σ(x - µ)²/ N**\n",
    "    - sample SD  ->  **s² = √ Σ(x - x̅)²/ N-1**"
   ]
  },
  {
   "cell_type": "code",
   "execution_count": 19,
   "id": "01f45ae7",
   "metadata": {},
   "outputs": [
    {
     "name": "stdout",
     "output_type": "stream",
     "text": [
      "1.5811388300841898\n"
     ]
    }
   ],
   "source": [
    "print(data['age'].std())    # by deadult use sample SD"
   ]
  },
  {
   "cell_type": "code",
   "execution_count": 20,
   "id": "b8380bee",
   "metadata": {},
   "outputs": [
    {
     "name": "stdout",
     "output_type": "stream",
     "text": [
      "1.4142135623730951\n"
     ]
    }
   ],
   "source": [
    "# population SD\n",
    "\n",
    "print(data['age'].std(ddof=0))"
   ]
  },
  {
   "cell_type": "code",
   "execution_count": 21,
   "id": "3be2eeb6",
   "metadata": {},
   "outputs": [
    {
     "name": "stdout",
     "output_type": "stream",
     "text": [
      "1.5811388300841898\n"
     ]
    }
   ],
   "source": [
    "# sample SD\n",
    "\n",
    "print(data['age'].std(ddof=1))"
   ]
  },
  {
   "cell_type": "markdown",
   "id": "38a4f92a",
   "metadata": {},
   "source": [
    "### *2.10 Percentile*\n",
    "- it means how much data are below yours.\n",
    "- in rank wise it tell us, what percent of people scored lower than you.\n",
    "- A lower rank = higher percentile rank (Rank 1 = 99th percentile in most cases)\n",
    "- the data should be sort in accending order before doing percentile.\n",
    "\n",
    "- calculate as,\n",
    "    - if you have all data\t-->  **(no. of value less than your value / total no. of values) * 100**\n",
    "    - if you have rank and total people\t-->  **(total values - your value / total values) * 100**"
   ]
  },
  {
   "cell_type": "markdown",
   "id": "c554d297",
   "metadata": {},
   "source": [
    "### *2.11 Quartiles*\n",
    "- for a given rank,\n",
    "    - **min** or 0 percentile -- means 0% of data/people are below to it.\n",
    "    - **Q1** or 25 percentile -- means 25% of data/people are below to it.\n",
    "    - **Q2** or **median** or 50 percentile -- means 50% of data/people are below to it.\n",
    "    - **Q3** or 75 percentile -- means 75% of data/people are below to it.\n",
    "    - **max** or 100 percentile -- means 100% of data/people are below to it.\n",
    "\n",
    "    - To reperesent the five no. summary we use **boxplot**"
   ]
  },
  {
   "cell_type": "code",
   "execution_count": 22,
   "id": "2765cee9",
   "metadata": {},
   "outputs": [
    {
     "name": "stdout",
     "output_type": "stream",
     "text": [
      "1.0\n"
     ]
    }
   ],
   "source": [
    "# 0 percentile or minimum\n",
    "\n",
    "print(data['age'].quantile(0))"
   ]
  },
  {
   "cell_type": "code",
   "execution_count": 23,
   "id": "4068d1f0",
   "metadata": {},
   "outputs": [
    {
     "name": "stdout",
     "output_type": "stream",
     "text": [
      "2.0\n"
     ]
    }
   ],
   "source": [
    "# 25 percentile or Q1\n",
    "\n",
    "print(data['age'].quantile(0.25))"
   ]
  },
  {
   "cell_type": "code",
   "execution_count": 24,
   "id": "a866cbff",
   "metadata": {},
   "outputs": [
    {
     "name": "stdout",
     "output_type": "stream",
     "text": [
      "3.0\n"
     ]
    }
   ],
   "source": [
    "# 50 percentile or Q2\n",
    "\n",
    "print(data['age'].quantile(0.5))"
   ]
  },
  {
   "cell_type": "code",
   "execution_count": 25,
   "id": "4d1ab84a",
   "metadata": {},
   "outputs": [
    {
     "name": "stdout",
     "output_type": "stream",
     "text": [
      "4.0\n"
     ]
    }
   ],
   "source": [
    "# 75 percentile or Q3\n",
    "\n",
    "print(data['age'].quantile(0.75))"
   ]
  },
  {
   "cell_type": "code",
   "execution_count": 26,
   "id": "f1da2008",
   "metadata": {},
   "outputs": [
    {
     "name": "stdout",
     "output_type": "stream",
     "text": [
      "5.0\n"
     ]
    }
   ],
   "source": [
    "# 100 percentile or max\n",
    "\n",
    "print(data['age'].quantile(1))"
   ]
  },
  {
   "cell_type": "code",
   "execution_count": 27,
   "id": "972abd4d",
   "metadata": {},
   "outputs": [
    {
     "name": "stdout",
     "output_type": "stream",
     "text": [
      "count    5.000000\n",
      "mean     3.000000\n",
      "std      1.581139\n",
      "min      1.000000\n",
      "25%      2.000000\n",
      "50%      3.000000\n",
      "75%      4.000000\n",
      "max      5.000000\n",
      "Name: age, dtype: float64\n"
     ]
    }
   ],
   "source": [
    "print(data['age'].describe())"
   ]
  },
  {
   "cell_type": "code",
   "execution_count": 28,
   "id": "3ce37eeb",
   "metadata": {},
   "outputs": [
    {
     "name": "stdout",
     "output_type": "stream",
     "text": [
      "0.00    1.0\n",
      "0.25    2.0\n",
      "0.50    3.0\n",
      "0.75    4.0\n",
      "1.00    5.0\n",
      "Name: age, dtype: float64\n"
     ]
    }
   ],
   "source": [
    "# 5 no.s summary\n",
    "\n",
    "print(data['age'].quantile([0,0.25,0.5,0.75,1]))"
   ]
  },
  {
   "cell_type": "markdown",
   "id": "dc684e52",
   "metadata": {},
   "source": [
    "### *2.12 Inter Quantile Range (IQR)*\n",
    "- Calculated as, **Q3-Q1**"
   ]
  },
  {
   "cell_type": "code",
   "execution_count": 29,
   "id": "a6631bd9",
   "metadata": {},
   "outputs": [
    {
     "name": "stdout",
     "output_type": "stream",
     "text": [
      "2.0\n"
     ]
    }
   ],
   "source": [
    "Q1=data['age'].quantile(0.25)\n",
    "Q3=data['age'].quantile(0.75)\n",
    "IQR=Q3-Q1\n",
    "print(IQR)"
   ]
  },
  {
   "cell_type": "markdown",
   "id": "cbf3c626",
   "metadata": {},
   "source": [
    "### *2.13 Lower Limit*\n",
    "- Calculated as, **Q1-(IQR * 1.5)**"
   ]
  },
  {
   "cell_type": "code",
   "execution_count": 30,
   "id": "d28c5490",
   "metadata": {},
   "outputs": [
    {
     "name": "stdout",
     "output_type": "stream",
     "text": [
      "1.0\n"
     ]
    }
   ],
   "source": [
    "print(data['age'].quantile(0.25)-(data['age'].quantile(0.75)-data['age'].quantile(0.25)*1.5))"
   ]
  },
  {
   "cell_type": "markdown",
   "id": "79783e35",
   "metadata": {},
   "source": [
    "### *2.14 Upper limit*\n",
    "- Calculated as, **Q3+(IQR * 1.5)**\n",
    "\n",
    "-------------------------------------------------------------------------------------------------------------------------------------------------"
   ]
  },
  {
   "cell_type": "code",
   "execution_count": 31,
   "id": "25f00fd0",
   "metadata": {},
   "outputs": [
    {
     "name": "stdout",
     "output_type": "stream",
     "text": [
      "-3.0\n"
     ]
    }
   ],
   "source": [
    "print(data['age'].quantile(0.75)-(data['age'].quantile(0.75))-data['age'].quantile(0.25)*1.5)"
   ]
  },
  {
   "cell_type": "markdown",
   "id": "1f1b43b0",
   "metadata": {},
   "source": [
    "## **3. Measures of Shape**"
   ]
  },
  {
   "cell_type": "code",
   "execution_count": null,
   "id": "f4d5ee88",
   "metadata": {},
   "outputs": [],
   "source": []
  }
 ],
 "metadata": {
  "kernelspec": {
   "display_name": "Python 3",
   "language": "python",
   "name": "python3"
  },
  "language_info": {
   "codemirror_mode": {
    "name": "ipython",
    "version": 3
   },
   "file_extension": ".py",
   "mimetype": "text/x-python",
   "name": "python",
   "nbconvert_exporter": "python",
   "pygments_lexer": "ipython3",
   "version": "3.10.16"
  }
 },
 "nbformat": 4,
 "nbformat_minor": 5
}
