{
 "cells": [
  {
   "cell_type": "markdown",
   "id": "ddd06118",
   "metadata": {},
   "source": [
    "# There are various wasy to approch a dataset/ project :\n",
    "\n",
    "                                                calculate probability\n",
    "                                                         |\n",
    "                                ---------------------------------------------------\n",
    "                                |                                                  |\n",
    "                        if data is given                                   if data is not given\n",
    "                                |                                                  |\n",
    "                        apply probaliblity             ----------------------------------------------\n",
    "                            formula                    |                                             |\n",
    "                                                nrmly distribited,                                 not nrmly\n",
    "                                                mean, std deviation                               distributed\n",
    "                                                    (given)                                            |\n",
    "                                                        |                                            we cant\n",
    "                                        --------------------------------                            calculate\n",
    "                                       |                                |                           probability\n",
    "                                    z-score                        68-95-99%\n",
    "                                    z-table                           rule"
   ]
  },
  {
   "cell_type": "markdown",
   "id": "1ce34cee",
   "metadata": {},
   "source": [
    "## *1. Do for every project when the data is given* "
   ]
  },
  {
   "cell_type": "markdown",
   "id": "2461f325",
   "metadata": {},
   "source": [
    "### **Descriptive Statistics**\n",
    "- focues on calculating measures.\n",
    "- in this varios measures are,\n",
    "    - for continous,\n",
    "        1. mean (when no outliers)\n",
    "        2. median (when outlier present)\n",
    "        3. min \n",
    "        4. max\n",
    "        5. range\n",
    "        6. std deviation (no outlier)\n",
    "        7. Quantiles\n",
    "        8. IQR (with outlier)\n",
    "        9. skewness\n",
    "\n",
    "    - for discrete, \n",
    "        - mode only"
   ]
  },
  {
   "cell_type": "markdown",
   "metadata": {},
   "source": [
    "## *2. Do for some projects when project requires*"
   ]
  },
  {
   "cell_type": "markdown",
   "id": "5aa4ab09",
   "metadata": {},
   "source": [
    "### **2.1 Probability** \n",
    "- when data was given -- probability formula\n",
    "    - P(requirement) = no. of record satisfy the requiremrnt / total no. of records\n",
    "    1. for discrete variable -- P(single value)\n",
    "    2. for continous variable -- P(interval)\n",
    "\n",
    "- When the data was not given, but will give data is nrmly distributed, mean and std deviation, we have to calculate prob using these\n",
    "    1. Z-score and z-table\n",
    "    2. 60-95-99.5% rule\n",
    "\n",
    "    - **z-score** of a value = **value - mean / std deviation**\n",
    "    - **z-table** takes z-score upto 2 decimal place to get probability from z-table. e.g -- 1.50 we look 1.5 in the left column and 0.50 in the top row of the table.\n",
    "\n",
    "    - **density / probability / distibution curve** \n",
    "        1. nrmly sistributed\n",
    "        2. left skewed\n",
    "        3. right skewed\n",
    "\n",
    "    - steps to calculate probability using z-score\n",
    "        1. draw nrml distribution diagram\n",
    "        2. calculate z-score upto 2 decimal place\n",
    "        3. calculate prob from z-table using z-score"
   ]
  },
  {
   "cell_type": "markdown",
   "id": "60b4a91c",
   "metadata": {},
   "source": [
    "### **2.2 Inferential Statistics**"
   ]
  }
 ],
 "metadata": {
  "language_info": {
   "name": "python"
  }
 },
 "nbformat": 4,
 "nbformat_minor": 5
}
