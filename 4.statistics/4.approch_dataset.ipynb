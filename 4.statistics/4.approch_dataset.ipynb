{
 "cells": [
  {
   "cell_type": "markdown",
   "id": "ddd06118",
   "metadata": {},
   "source": [
    "# There are various wasy to approch a dataset/ project :\n",
    "\n",
    "                                                calculate probability\n",
    "                                                         |\n",
    "                                ---------------------------------------------------\n",
    "                                |                                                  |\n",
    "                        if data is given                                   if data is not given\n",
    "                                |                                                  |\n",
    "                        apply probaliblity             ----------------------------------------------\n",
    "                            formula                    |                                             |\n",
    "                                                nrmly distribited,                                 not nrmly\n",
    "                                                mean, std deviation                               distributed\n",
    "                                                    (given)                                            |\n",
    "                                                        |                                            we cant\n",
    "                                        --------------------------------                            calculate\n",
    "                                       |                                |                           probability\n",
    "                                    z-score                        68-95-99%\n",
    "                                    z-table                           rule"
   ]
  },
  {
   "cell_type": "markdown",
   "id": "1ce34cee",
   "metadata": {},
   "source": [
    "## *1. Do for every project when the data is given* "
   ]
  },
  {
   "cell_type": "markdown",
   "id": "2461f325",
   "metadata": {},
   "source": [
    "### **Descriptive Statistics**\n",
    "- focues on calculating measures.\n",
    "- in this varios measures are,\n",
    "    - for continous,\n",
    "        1. mean (when no outliers)\n",
    "        2. median (when outlier present)\n",
    "        3. min \n",
    "        4. max\n",
    "        5. range\n",
    "        6. std deviation (no outlier)\n",
    "        7. Quantiles\n",
    "        8. IQR (with outlier)\n",
    "        9. skewness\n",
    "\n",
    "    - for discrete, \n",
    "        - mode only"
   ]
  },
  {
   "cell_type": "markdown",
   "metadata": {},
   "source": [
    "## *2. Do for some projects when project requires*"
   ]
  },
  {
   "cell_type": "markdown",
   "id": "5aa4ab09",
   "metadata": {},
   "source": [
    "### **2.1 Probability** \n",
    "- **when data was given -- probability formula**\n",
    "    - P(requirement) = no. of record satisfy the requiremrnt / total no. of records\n",
    "    1. for discrete variable -- P(single value)\n",
    "    2. for continous variable -- P(interval)\n",
    "\n",
    "- **When the data was not given, but will give data is nrmly distributed, mean and std deviation, we have to calculate prob using these**\n",
    "    1. *Z-score and z-table*\n",
    "\n",
    "        - **z-score** of a value = **value - mean / std deviation**\n",
    "        - **z-table** takes z-score upto 2 decimal place to get probability from z-table. e.g -- 1.50 we look 1.5 in the left column and 0.50 in the top row of the table.\n",
    "\n",
    "        - **density / probability / distibution curve** \n",
    "            1. nrmly sistributed\n",
    "            2. left skewed\n",
    "            3. right skewed\n",
    "\n",
    "        - **steps to calculate probability using z-score**\n",
    "            1. draw nrml distribution diagram\n",
    "            2. calculate z-score upto 2 decimal place\n",
    "            3. calculate prob from z-table using z-score\n",
    "\n",
    "    2. *60-95-99.5% rule*\n",
    "        - This rule is only applicable for µ, µ+1𝞂, µ-1𝞂 etc.\n",
    "        - In normal distribution between,\n",
    "            - µ-1𝞂 to µ+1𝞂 is 68% -----(µ-1𝞂 to µ = 34%) and (µ to µ+1𝞂 = 34%)\n",
    "            - µ-2𝞂 to µ+2𝞂 is 95% -----(µ-2𝞂 to µ-1𝞂 = 13.5%%) and (µ-1𝞂 to µ-2𝞂 = 13.5%)\n",
    "            - µ-3𝞂 to µ+3𝞂 is 99.7% -----(µ-3𝞂 to µ-2𝞂 = 13.5%%) and (µ-2𝞂 to µ-3𝞂 = 13.5%)\n",
    "            - 0.15% is balance left on both the sides as the curve is not completed.\n"
   ]
  },
  {
   "cell_type": "markdown",
   "id": "d2febd9b",
   "metadata": {},
   "source": [
    "### *Central Limit Theorm*\n",
    "- As the probability of a single value is always zero for a continous variable.\n",
    "- so, we have to estimate probability of a single value using interval, we may not get the fixed / correct probability but we get somewhere near to that according to the CLT.\n",
    "- we take a interval to calculate probability i.e,\n",
    "    - point estimate +- std. error\n",
    "        - E.g - let Guessing a friends phone be 20000 which is called point estimate(as we guess by supposing mean) and +- 5000 is error/up or low value, so the estimate interval will be [15k,25k]\n",
    "    - **[µ - 𝞂/√n , µ + 𝞂/√n]**\n",
    "        - 𝞂/√n is std error\n",
    "        - n is no of records"
   ]
  },
  {
   "cell_type": "markdown",
   "id": "a5eb97a4",
   "metadata": {},
   "source": [
    "### *Confidence Interval*"
   ]
  },
  {
   "cell_type": "markdown",
   "id": "60b4a91c",
   "metadata": {},
   "source": [
    "### **2.2 Inferential Statistics**"
   ]
  },
  {
   "cell_type": "markdown",
   "id": "b7716773",
   "metadata": {},
   "source": []
  }
 ],
 "metadata": {
  "language_info": {
   "name": "python"
  }
 },
 "nbformat": 4,
 "nbformat_minor": 5
}
