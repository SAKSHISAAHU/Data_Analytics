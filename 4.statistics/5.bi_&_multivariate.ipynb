{
 "cells": [
  {
   "cell_type": "markdown",
   "id": "dd0529a9",
   "metadata": {},
   "source": [
    "## **1. Bivariate Measure**"
   ]
  },
  {
   "cell_type": "markdown",
   "id": "5724c2f6",
   "metadata": {},
   "source": [
    "### *1.1 Covariance*"
   ]
  },
  {
   "cell_type": "markdown",
   "id": "6f08bcbc",
   "metadata": {},
   "source": [
    "### *1.2 Correlation*"
   ]
  },
  {
   "cell_type": "markdown",
   "id": "394f4fcc",
   "metadata": {},
   "source": [
    "## **2. Multivariate Measure**"
   ]
  },
  {
   "cell_type": "markdown",
   "id": "fd1a43ff",
   "metadata": {},
   "source": []
  }
 ],
 "metadata": {
  "language_info": {
   "name": "python"
  }
 },
 "nbformat": 4,
 "nbformat_minor": 5
}
