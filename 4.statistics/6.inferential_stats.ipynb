{
 "cells": [
  {
   "cell_type": "markdown",
   "id": "06c232d2",
   "metadata": {},
   "source": [
    "## **Inferential Statistics**\n",
    "- Estimating the population parameter based on sample statistics.\n",
    "\n",
    "- It is done when we dont have the population data.\n",
    "\n",
    "- It can be done using various statistical / hypothesis texts."
   ]
  },
  {
   "cell_type": "markdown",
   "id": "bd600824",
   "metadata": {},
   "source": [
    "### *Hypothesis Testing* :-\n",
    "- The value of population parameter should be accepted or rejected, is given by hypothesis testing.\n",
    "\n",
    "    1. **Null Hypothesis (H₀)** -\n",
    "    - it is a statement about population parameter that assume no action, no difference or nothing new is happening if that we accept null hypothesis otherwise reject.\n",
    "    - we test the likelihood of this statement being true in order to decide whether to accept or reject alternate hypothesis.\n",
    "    - it inclued **= , <=** and **>=**\n",
    "\n",
    "    2. **Alternate Hypothesis** -\n",
    "    - it is the statement that direclty null hypothesis that assume action, difference or any new is happening.\n",
    "    - we determine whether or not to accept or reject this statement based upon the likelihood of null hypothesis being true.\n",
    "    - it include **!=, >** and **<**\n"
   ]
  },
  {
   "cell_type": "markdown",
   "id": "ff128ea7",
   "metadata": {},
   "source": [
    "### *Statistical Test* :-\n",
    "1. **Paramatric Test** - applied for continous variable when it is nrmly distributed (if not we have to convert first).\n",
    "\n",
    "2. **Non-Parametric Test** - applied for discrete variable.\n",
    "\n"
   ]
  },
  {
   "cell_type": "markdown",
   "id": "b83e7536",
   "metadata": {},
   "source": [
    "### *Steps involved in statistical / Hypothesis testing for continous variable* :-\n",
    "1. formulate the null and alternate hypothesis.\n",
    "2. check for the ⍺ (level of significance) in the project, if not ⍺ = 0.05 and ⍺-1 (confidence) = 0.95 \n",
    "3. check whether the data is nrmly distributed, if not then convert the data into nrmlt ditribution.\n",
    "4. identify the statistical test -\n",
    "    - if 1 continous variable + pop. std. is given -----> 1 sample z-test\n",
    "    - if 1 continous variable + pop. std. is not given -----> 1 sample t-test\n",
    "    - if more then 1 continous variable avail-----> ANOVA test\n",
    "\n",
    "5. apply statistical test and calculate p-value or probability.\n",
    "    - if doing manully -----> apply formula and calulate\n",
    "    - if doing using python -----> import data, then apply function and give arguments as input then it will return p-value.\n",
    "6. based upon the p-value, either accept or reject the null hypothesis.\n",
    "    - if doing manually-\n",
    "        - if p-value comes under acceptance region -----> accept H₀\n",
    "        - if p-value comes under rejected region -----> reject H₀\n",
    "    - if doing using python -\n",
    "        - if p-value < alpha -----> reject H₀\n",
    "        - if p-value > alpha -----> accept H₀"
   ]
  },
  {
   "cell_type": "markdown",
   "id": "1457364a",
   "metadata": {},
   "source": [
    "### *Steps involved in statistical / Hypothesis testing for discrete variable* :-\n",
    "1. same as above\n",
    "2. same as above\n",
    "3. no step 3 as nrml distribution is only avail for contionus data\n",
    "4. identify statistical test-\n",
    "    - if 1 descrite variable ----->  1 Propotional test\n",
    "    - if more than 1 discrete variable -----> chi-square test\n",
    "    \n",
    "5. same as above\n",
    "6. same as above"
   ]
  },
  {
   "cell_type": "markdown",
   "id": "df4e1294",
   "metadata": {},
   "source": []
  }
 ],
 "metadata": {
  "language_info": {
   "name": "python"
  }
 },
 "nbformat": 4,
 "nbformat_minor": 5
}
