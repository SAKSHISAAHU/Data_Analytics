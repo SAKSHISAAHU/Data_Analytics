{
 "cells": [
  {
   "cell_type": "code",
   "execution_count": 1,
   "id": "50157c4a",
   "metadata": {},
   "outputs": [],
   "source": [
    "import numpy as np\n",
    "import pandas as pd\n",
    "from scipy import stats"
   ]
  },
  {
   "cell_type": "markdown",
   "id": "06c232d2",
   "metadata": {},
   "source": [
    "# **Inferential Statistics**\n",
    "- Estimating the population parameter based on sample statistics.\n",
    "\n",
    "- It is done when we dont have the population data.\n",
    "\n",
    "- It can be done using various statistical / hypothesis texts."
   ]
  },
  {
   "cell_type": "markdown",
   "id": "bd600824",
   "metadata": {},
   "source": [
    "## *1. Hypothesis Testing* :-\n",
    "- The value of population parameter should be accepted or rejected, is given by hypothesis testing.\n",
    "\n",
    "    1. **Null Hypothesis (H₀)** -\n",
    "    - it is a statement about population parameter that assume no action, no difference or nothing new is happening if that we accept null hypothesis otherwise reject.\n",
    "    - we test the likelihood of this statement being true in order to decide whether to accept or reject alternate hypothesis.\n",
    "    - it inclued **= , <=** and **>=**\n",
    "\n",
    "    2. **Alternate Hypothesis** -\n",
    "    - it is the statement that direclty null hypothesis that assume action, difference or any new is happening.\n",
    "    - we determine whether or not to accept or reject this statement based upon the likelihood of null hypothesis being true.\n",
    "    - it include **!=, >** and **<**\n"
   ]
  },
  {
   "cell_type": "markdown",
   "id": "ff128ea7",
   "metadata": {},
   "source": [
    "## *2. Statistical Test* :-\n",
    "1. **Paramatric Test** - applied for continous variable when it is nrmly distributed (if not we have to convert first).\n",
    "\n",
    "2. **Non-Parametric Test** - applied for discrete variable.\n",
    "\n"
   ]
  },
  {
   "cell_type": "markdown",
   "id": "b83e7536",
   "metadata": {},
   "source": [
    "## *3. Steps involved in statistical / Hypothesis testing for continous variable* :-\n",
    "1. formulate the null and alternate hypothesis.\n",
    "2. check for the ⍺ (level of significance) in the project, if not ⍺ = 0.05 and ⍺-1 (confidence) = 0.95 \n",
    "3. check whether the data is nrmly distributed, if not then convert the data into nrmlt ditribution.\n",
    "4. identify the statistical test -\n",
    "    - if 1 continous variable + pop. std. is given -----> 1 sample z-test\n",
    "        - manually formula is, **z =  x̄ - µ / 𝞂√n**\n",
    "\n",
    "    - if 1 continous variable + pop. std. is not given -----> 1 sample t-test\n",
    "        - manually formula is, **t = x̄ - µ / s√n**\n",
    "        \n",
    "    - if more then 1 continous variable avail-----> ANOVA test\n",
    "        - no manual formula only done by python.\n",
    "\n",
    "5. apply statistical test and calculate p-value or probability.\n",
    "    - if doing manully -----> apply formula and calulate\n",
    "    - if doing using python -----> import data, then apply function and give arguments as input then it will return p-value.\n",
    "6. based upon the p-value, either accept or reject the null hypothesis.\n",
    "    - if doing manually-\n",
    "        - if p-value comes under acceptance region -----> accept H₀\n",
    "        - if p-value comes under rejected region -----> reject H₀\n",
    "    - if doing using python -\n",
    "        - if p-value < alpha -----> reject H₀\n",
    "        - if p-value > alpha -----> accept H₀"
   ]
  },
  {
   "cell_type": "markdown",
   "id": "a67a1fed",
   "metadata": {},
   "source": [
    "### *3.1 one sample Z-test*"
   ]
  },
  {
   "cell_type": "markdown",
   "id": "e67466cf",
   "metadata": {},
   "source": [
    "##### **Que1** - The length of 25 samples of a fabric are taken at random. Historic Mean and standard deviation are 150 cm and 5.5 cm respectively. Company manager wants to test if the current mean is equal to the the historic mean. Assume α to be 0.05"
   ]
  },
  {
   "cell_type": "code",
   "execution_count": 2,
   "id": "36d8d028",
   "metadata": {},
   "outputs": [
    {
     "data": {
      "text/html": [
       "<div>\n",
       "<style scoped>\n",
       "    .dataframe tbody tr th:only-of-type {\n",
       "        vertical-align: middle;\n",
       "    }\n",
       "\n",
       "    .dataframe tbody tr th {\n",
       "        vertical-align: top;\n",
       "    }\n",
       "\n",
       "    .dataframe thead th {\n",
       "        text-align: right;\n",
       "    }\n",
       "</style>\n",
       "<table border=\"1\" class=\"dataframe\">\n",
       "  <thead>\n",
       "    <tr style=\"text-align: right;\">\n",
       "      <th></th>\n",
       "      <th>Fabric_length</th>\n",
       "    </tr>\n",
       "  </thead>\n",
       "  <tbody>\n",
       "    <tr>\n",
       "      <th>0</th>\n",
       "      <td>151.2</td>\n",
       "    </tr>\n",
       "    <tr>\n",
       "      <th>1</th>\n",
       "      <td>160.3</td>\n",
       "    </tr>\n",
       "    <tr>\n",
       "      <th>2</th>\n",
       "      <td>147.5</td>\n",
       "    </tr>\n",
       "    <tr>\n",
       "      <th>3</th>\n",
       "      <td>149.2</td>\n",
       "    </tr>\n",
       "    <tr>\n",
       "      <th>4</th>\n",
       "      <td>159.2</td>\n",
       "    </tr>\n",
       "  </tbody>\n",
       "</table>\n",
       "</div>"
      ],
      "text/plain": [
       "   Fabric_length\n",
       "0          151.2\n",
       "1          160.3\n",
       "2          147.5\n",
       "3          149.2\n",
       "4          159.2"
      ]
     },
     "execution_count": 2,
     "metadata": {},
     "output_type": "execute_result"
    }
   ],
   "source": [
    "df1=pd.read_excel(r'/Users/sakshisahu/Documents/learning/Data_Analytics/data/Fabric_data.xlsx')\n",
    "df1.head()"
   ]
  },
  {
   "cell_type": "markdown",
   "id": "a4b383e6",
   "metadata": {},
   "source": [
    "**step1** ---> formulate H0 and H1\n",
    "- H0 : µ == 150cm\n",
    "- H1 : µ != 150cm\n",
    "\n",
    "**step2** ----> ⍺ = 0.05\n",
    "\n",
    "**step3** ---> check normality --- value should lies between -1 to 1."
   ]
  },
  {
   "cell_type": "code",
   "execution_count": 3,
   "id": "118b280d",
   "metadata": {},
   "outputs": [
    {
     "name": "stdout",
     "output_type": "stream",
     "text": [
      "0.29650632012590666\n"
     ]
    }
   ],
   "source": [
    "# step3 \n",
    "\n",
    "print(df1['Fabric_length'].skew()) # nrml distribution"
   ]
  },
  {
   "cell_type": "markdown",
   "id": "fca7d1a4",
   "metadata": {},
   "source": [
    "**step4** ---> 1 sample z-test\n",
    "\n",
    "**step5** ---> z-test"
   ]
  },
  {
   "cell_type": "code",
   "execution_count": 4,
   "id": "920c6efb",
   "metadata": {},
   "outputs": [
    {
     "data": {
      "text/plain": [
       "(np.float64(4.581553935379281), np.float64(4.615335331740767e-06))"
      ]
     },
     "execution_count": 4,
     "metadata": {},
     "output_type": "execute_result"
    }
   ],
   "source": [
    "# step5\n",
    "\n",
    "from statsmodels.stats.weightstats import ztest\n",
    "ztest(df1['Fabric_length'], value=150, alternative=\"two-sided\", ddof=0)"
   ]
  },
  {
   "cell_type": "markdown",
   "id": "dc44779d",
   "metadata": {},
   "source": [
    "**step6** pvalue > alpha ---> accept H0"
   ]
  },
  {
   "cell_type": "markdown",
   "id": "4aedf568",
   "metadata": {},
   "source": [
    "### *3.2 one sample t-test*"
   ]
  },
  {
   "cell_type": "markdown",
   "id": "144420b2",
   "metadata": {},
   "source": [
    "##### **Que1** - The mean diameter of the bolt manufactured should be 10 mm to be able to fit into the nut. 20 samples are taken at random from production line by a quality inspector. Conduct a test to check with 90% confidence that the mean is not different from the specification value."
   ]
  },
  {
   "cell_type": "code",
   "execution_count": 5,
   "id": "ad9ee82b",
   "metadata": {},
   "outputs": [
    {
     "data": {
      "text/html": [
       "<div>\n",
       "<style scoped>\n",
       "    .dataframe tbody tr th:only-of-type {\n",
       "        vertical-align: middle;\n",
       "    }\n",
       "\n",
       "    .dataframe tbody tr th {\n",
       "        vertical-align: top;\n",
       "    }\n",
       "\n",
       "    .dataframe thead th {\n",
       "        text-align: right;\n",
       "    }\n",
       "</style>\n",
       "<table border=\"1\" class=\"dataframe\">\n",
       "  <thead>\n",
       "    <tr style=\"text-align: right;\">\n",
       "      <th></th>\n",
       "      <th>Diameter</th>\n",
       "    </tr>\n",
       "  </thead>\n",
       "  <tbody>\n",
       "    <tr>\n",
       "      <th>0</th>\n",
       "      <td>10.02</td>\n",
       "    </tr>\n",
       "    <tr>\n",
       "      <th>1</th>\n",
       "      <td>10.00</td>\n",
       "    </tr>\n",
       "    <tr>\n",
       "      <th>2</th>\n",
       "      <td>9.98</td>\n",
       "    </tr>\n",
       "    <tr>\n",
       "      <th>3</th>\n",
       "      <td>9.99</td>\n",
       "    </tr>\n",
       "    <tr>\n",
       "      <th>4</th>\n",
       "      <td>10.01</td>\n",
       "    </tr>\n",
       "  </tbody>\n",
       "</table>\n",
       "</div>"
      ],
      "text/plain": [
       "   Diameter\n",
       "0     10.02\n",
       "1     10.00\n",
       "2      9.98\n",
       "3      9.99\n",
       "4     10.01"
      ]
     },
     "execution_count": 5,
     "metadata": {},
     "output_type": "execute_result"
    }
   ],
   "source": [
    "df2=pd.read_excel(r'/Users/sakshisahu/Documents/learning/Data_Analytics/data/Bolt_diameter.xlsx')\n",
    "df2.head()"
   ]
  },
  {
   "cell_type": "markdown",
   "id": "a577eeae",
   "metadata": {},
   "source": [
    "**step1** ---> Formulate H0 H1\n",
    "- H0 : µ == 10mm\n",
    "- H1 : µ != 10mm\n",
    "\n",
    "**step2** ---> ⍺ = 0.1\n",
    "\n",
    "**step3** ---> check normality"
   ]
  },
  {
   "cell_type": "code",
   "execution_count": 6,
   "id": "9424f2ce",
   "metadata": {},
   "outputs": [
    {
     "data": {
      "text/plain": [
       "np.float64(0.0)"
      ]
     },
     "execution_count": 6,
     "metadata": {},
     "output_type": "execute_result"
    }
   ],
   "source": [
    "#step3\n",
    "df2['Diameter'].skew() # nrmlly distributed"
   ]
  },
  {
   "cell_type": "markdown",
   "id": "d7ede73e",
   "metadata": {},
   "source": [
    "**step4** ---> 1 sample t-test (as no alpha given)\n",
    "\n",
    "**step5** ---> appling formula"
   ]
  },
  {
   "cell_type": "code",
   "execution_count": 7,
   "id": "ae5b5243",
   "metadata": {},
   "outputs": [
    {
     "name": "stdout",
     "output_type": "stream",
     "text": [
      "TtestResult(statistic=np.float64(0.0), pvalue=np.float64(1.0), df=np.int64(19))\n"
     ]
    }
   ],
   "source": [
    "#step5\n",
    "ttest=stats.ttest_1samp(df2['Diameter'], 10, alternative='two-sided')\n",
    "print(ttest)"
   ]
  },
  {
   "cell_type": "markdown",
   "id": "246034b1",
   "metadata": {},
   "source": [
    "**step6** ---> pvalue > aplha ---> accept H0"
   ]
  },
  {
   "cell_type": "markdown",
   "id": "e9fe4b65",
   "metadata": {},
   "source": [
    "### *3.3 ANOVA Test*\n",
    "- it stands for analysis of variance test.\n",
    "- it is also called as f-test.\n",
    "- it dosent have any manual formula.\n",
    "- in this test, **we do comparision between two columns**.\n",
    "    - when we only have two columns then we can have <=, >= and == possibilites in H0.\n",
    "    - but when we have more than two columns then we only have = (no differnece) posibilites for H0.\n",
    "\n",
    "- **Hypotheses** ---> syntax - H0 & H1 : population parameter = population parameter\n",
    "    - H0 : all groups/ columns are equal (no action) -----> µA == µB\n",
    "    - H1 : at leat one group/ column is different (action) -----> µA != µB"
   ]
  },
  {
   "cell_type": "markdown",
   "id": "1457364a",
   "metadata": {},
   "source": [
    "## *4. Steps involved in statistical / Hypothesis testing for discrete variable* :-\n",
    "1. same as above\n",
    "2. same as above\n",
    "3. no step 3 as nrml distribution is only avail for contionus data\n",
    "4. identify statistical test-\n",
    "    - if 1 descrite variable ----->  1 Propotional test\n",
    "    - if more than 1 discrete variable -----> chi-square test\n",
    "    \n",
    "5. same as above\n",
    "6. same as above"
   ]
  },
  {
   "cell_type": "markdown",
   "id": "df4e1294",
   "metadata": {},
   "source": [
    "### *4.1 one proportion test*\n",
    "- it dosent have any manual formula\n",
    "- we dont use any comparision operator because we are not comparing.\n",
    "- **here we test claim about a single proportion or percentage**."
   ]
  },
  {
   "cell_type": "markdown",
   "id": "81cd5f4b",
   "metadata": {},
   "source": [
    "### *4.2 chi-square test*\n",
    "- it dosent have any manual formula.\n",
    "\n",
    "- **Hypothesis** ---> syntax - H0 & H1 : proportion = proportion \n",
    "    - H0 : propotion or percentage are same of two samples/ columns\n",
    "    - H1 : propotion or percentage are different of two samples/ columns."
   ]
  },
  {
   "cell_type": "markdown",
   "id": "cb717a6f",
   "metadata": {},
   "source": []
  }
 ],
 "metadata": {
  "kernelspec": {
   "display_name": "Python 3",
   "language": "python",
   "name": "python3"
  },
  "language_info": {
   "codemirror_mode": {
    "name": "ipython",
    "version": 3
   },
   "file_extension": ".py",
   "mimetype": "text/x-python",
   "name": "python",
   "nbconvert_exporter": "python",
   "pygments_lexer": "ipython3",
   "version": "3.10.18"
  }
 },
 "nbformat": 4,
 "nbformat_minor": 5
}
