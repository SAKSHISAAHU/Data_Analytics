{
 "cells": [
  {
   "cell_type": "markdown",
   "id": "cb53691f",
   "metadata": {},
   "source": [
    "## **Outliers**\n",
    "- It is a data points in dataset that is distinct from all the observations and which is significantly differ from remaining data points."
   ]
  },
  {
   "cell_type": "code",
   "execution_count": 43,
   "id": "c574a13b",
   "metadata": {},
   "outputs": [],
   "source": [
    "import seaborn as sn \n",
    "import pandas as pd"
   ]
  },
  {
   "cell_type": "code",
   "execution_count": 44,
   "id": "b316cdd8",
   "metadata": {},
   "outputs": [
    {
     "name": "stdout",
     "output_type": "stream",
     "text": [
      "      X\n",
      "0    10\n",
      "1    25\n",
      "2   190\n",
      "3    48\n",
      "4    55\n",
      "5    69\n",
      "6    33\n",
      "7    47\n",
      "8   200\n",
      "9    13\n",
      "10   65\n",
      "11   19\n"
     ]
    }
   ],
   "source": [
    "\n",
    "df=pd.DataFrame({'X':[10,25,190,48,55,69,33,47,200,13,65,19]})\n",
    "print(df)"
   ]
  },
  {
   "cell_type": "markdown",
   "id": "90bed479",
   "metadata": {},
   "source": [
    "### *> What happen if it is available?*\n",
    "- It affect the mean, vaiance and std deviation.\n",
    "- If no outlier,\n",
    "    - best way to calculate MCT = Median\n",
    "    - best way to calculate MD = Std. deviation\n",
    "\n",
    "- If outlier present,\n",
    "    - best way to calculate MCT = Mean\n",
    "    - best way to callculate MD = IQR"
   ]
  },
  {
   "cell_type": "markdown",
   "id": "8862a52a",
   "metadata": {},
   "source": [
    "### *> Reasons for outlier?*\n",
    "- Real value  --- soltution is to keep as it is **Retrain**\n",
    "- Data entry mistakes / wrong value --- solution is to **Remove**\n",
    "- instrumental error / error --- solution is to **Replace** with original"
   ]
  },
  {
   "cell_type": "markdown",
   "id": "26997a12",
   "metadata": {},
   "source": [
    "### *> How to calculate outlier or which values will be consider as outlier?*\n",
    "- if the value,\n",
    "    - **value > upper limit | value < lower limit**"
   ]
  },
  {
   "cell_type": "markdown",
   "id": "e03811c2",
   "metadata": {},
   "source": [
    "### *> How to identify whether the outlier is available or not?*\n",
    "- **Boxplot** \n",
    "    - As it represent the five no. summary with outliers.\n",
    "    - boxplot is only use to check if outliers are avialable or not."
   ]
  },
  {
   "cell_type": "code",
   "execution_count": 45,
   "id": "f6316188",
   "metadata": {},
   "outputs": [
    {
     "data": {
      "text/plain": [
       "<Axes: xlabel='X'>"
      ]
     },
     "execution_count": 45,
     "metadata": {},
     "output_type": "execute_result"
    },
    {
     "data": {
      "image/png": "[encoded data removed]",
      "text/plain": [
       "<Figure size 640x480 with 1 Axes>"
      ]
     },
     "metadata": {},
     "output_type": "display_data"
    }
   ],
   "source": [
    "sn.boxplot(x=df['X'])"
   ]
  },
  {
   "cell_type": "markdown",
   "id": "d5f4e68c",
   "metadata": {},
   "source": [
    "### *> How to extract outlier?*\n",
    "**df[ (df[index_name > ul]) | (df[index_name < ll]) ]**"
   ]
  },
  {
   "cell_type": "code",
   "execution_count": 46,
   "id": "251a61e5",
   "metadata": {},
   "outputs": [],
   "source": [
    "Q1=df['X'].quantile(0.25)\n",
    "Q3=df['X'].quantile(0.75)\n",
    "IQR = Q3-Q1"
   ]
  },
  {
   "cell_type": "code",
   "execution_count": 47,
   "id": "ea7f0f77",
   "metadata": {},
   "outputs": [
    {
     "name": "stdout",
     "output_type": "stream",
     "text": [
      "129.75\n"
     ]
    }
   ],
   "source": [
    "ul = Q3+(1.5*IQR)\n",
    "print(ul)"
   ]
  },
  {
   "cell_type": "code",
   "execution_count": 48,
   "id": "bbb1d468",
   "metadata": {},
   "outputs": [
    {
     "name": "stdout",
     "output_type": "stream",
     "text": [
      "-40.25\n"
     ]
    }
   ],
   "source": [
    "ll = Q1-(1.5*IQR)\n",
    "print(ll)"
   ]
  },
  {
   "cell_type": "code",
   "execution_count": 49,
   "id": "0df7e511",
   "metadata": {},
   "outputs": [
    {
     "name": "stdout",
     "output_type": "stream",
     "text": [
      "     X\n",
      "2  190\n",
      "8  200\n"
     ]
    }
   ],
   "source": [
    "a=df[(df['X']>ul)| (df['X']<ll)]\n",
    "print(a)"
   ]
  },
  {
   "cell_type": "markdown",
   "id": "a6f0aae9",
   "metadata": {},
   "source": [
    "### *How to count the no. of outlier?*\n"
   ]
  },
  {
   "cell_type": "code",
   "execution_count": null,
   "id": "798ffa85",
   "metadata": {},
   "outputs": [
    {
     "data": {
      "text/plain": [
       "2"
      ]
     },
     "execution_count": 56,
     "metadata": {},
     "output_type": "execute_result"
    }
   ],
   "source": [
    "# len function\n",
    "\n",
    "len(df[(df['X']>ul)|(df['X']<ll)])"
   ]
  },
  {
   "cell_type": "code",
   "execution_count": 59,
   "id": "f8b50753",
   "metadata": {},
   "outputs": [
    {
     "name": "stdout",
     "output_type": "stream",
     "text": [
      "(2, 1)\n",
      "2\n"
     ]
    }
   ],
   "source": [
    "# shape attribute return (row , column) but in case of outlier it retuen (no. of outliers , no of column)\n",
    "\n",
    "a=df[(df['X']>ul)| (df['X']<ll)]\n",
    "b=a.shape\n",
    "c=a.shape[0]\n",
    "print(b)\n",
    "print(c)"
   ]
  },
  {
   "cell_type": "markdown",
   "id": "53a69592",
   "metadata": {},
   "source": [
    "### *> How to get index no of outliers?*\n",
    "df[ (df[index_name]>ul) | (df[index_name]<ll) ].index\n"
   ]
  },
  {
   "cell_type": "code",
   "execution_count": 64,
   "id": "4edc0286",
   "metadata": {},
   "outputs": [
    {
     "data": {
      "text/plain": [
       "[2, 8]"
      ]
     },
     "execution_count": 64,
     "metadata": {},
     "output_type": "execute_result"
    }
   ],
   "source": [
    "df[(df['X']>ul)|(df['X']<ll)].index.tolist()"
   ]
  },
  {
   "cell_type": "markdown",
   "id": "0f42204c",
   "metadata": {},
   "source": [
    "### *> How to replace outlier with original data*\n",
    "**df.loc[ [list of index_names] ]=[list of values]**"
   ]
  },
  {
   "cell_type": "code",
   "execution_count": 66,
   "id": "791704ab",
   "metadata": {},
   "outputs": [
    {
     "name": "stdout",
     "output_type": "stream",
     "text": [
      "      X\n",
      "0    10\n",
      "1    25\n",
      "2    20\n",
      "3    48\n",
      "4    55\n",
      "5    69\n",
      "6    33\n",
      "7    47\n",
      "8   200\n",
      "9    13\n",
      "10   65\n",
      "11   19\n"
     ]
    }
   ],
   "source": [
    "df.loc[2]=20\n",
    "print(df)"
   ]
  },
  {
   "cell_type": "code",
   "execution_count": null,
   "id": "194627ae",
   "metadata": {},
   "outputs": [],
   "source": []
  }
 ],
 "metadata": {
  "kernelspec": {
   "display_name": "Python 3",
   "language": "python",
   "name": "python3"
  },
  "language_info": {
   "codemirror_mode": {
    "name": "ipython",
    "version": 3
   },
   "file_extension": ".py",
   "mimetype": "text/x-python",
   "name": "python",
   "nbconvert_exporter": "python",
   "pygments_lexer": "ipython3",
   "version": "3.10.16"
  }
 },
 "nbformat": 4,
 "nbformat_minor": 5
}
