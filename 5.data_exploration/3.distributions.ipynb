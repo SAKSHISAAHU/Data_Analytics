{
 "cells": [
  {
   "cell_type": "markdown",
   "id": "b21fd739",
   "metadata": {},
   "source": [
    "# **Distribution**"
   ]
  },
  {
   "cell_type": "markdown",
   "id": "01426363",
   "metadata": {},
   "source": [
    "## *1. Count Plot*\n",
    "- It is used for **frequency distribution**.\n",
    "- This plot overall represent the unique value, no. of unique value and value count.\n",
    "- can only be applied on dicrete variable(count + categorial).\n",
    "- In this representation all the unique value are called distibution.\n",
    "- The data can be represented,\n",
    "\n",
    "    - Table format,\n",
    "        - **The discrete frequency table** made from dicrete data, consists of category (unique value) and frequency columns.\n",
    "        - **The continous frequency table** made from continous data, consists of interval (which should be constant) and freqency columns.\n",
    "    \n",
    "    - Plot format,\n",
    "        - Discrete data use **countplot** and know as **Frequency distribution**\n",
    "        - Continous daTa use **histogram** and know as **Continous frequency dicribution**\n",
    "\n",
    "    - The rectangle column in countplot is called **bars**\n",
    "    - The continous attach rectangle columns in histogram is called **bins**\n",
    "    - To calculate no. of bins,\n",
    "        - **Max value - min value / total no of intervals**\n"
   ]
  },
  {
   "cell_type": "code",
   "execution_count": 22,
   "id": "9b9cd102",
   "metadata": {},
   "outputs": [],
   "source": [
    "import seaborn as sn\n",
    "import pandas as pd"
   ]
  },
  {
   "cell_type": "code",
   "execution_count": 23,
   "id": "765eb05c",
   "metadata": {},
   "outputs": [
    {
     "data": {
      "text/html": [
       "<div>\n",
       "<style scoped>\n",
       "    .dataframe tbody tr th:only-of-type {\n",
       "        vertical-align: middle;\n",
       "    }\n",
       "\n",
       "    .dataframe tbody tr th {\n",
       "        vertical-align: top;\n",
       "    }\n",
       "\n",
       "    .dataframe thead th {\n",
       "        text-align: right;\n",
       "    }\n",
       "</style>\n",
       "<table border=\"1\" class=\"dataframe\">\n",
       "  <thead>\n",
       "    <tr style=\"text-align: right;\">\n",
       "      <th></th>\n",
       "      <th>Gender</th>\n",
       "      <th>Marks</th>\n",
       "      <th>UD</th>\n",
       "      <th>X</th>\n",
       "      <th>Y</th>\n",
       "      <th>Z</th>\n",
       "    </tr>\n",
       "  </thead>\n",
       "  <tbody>\n",
       "    <tr>\n",
       "      <th>0</th>\n",
       "      <td>F</td>\n",
       "      <td>30</td>\n",
       "      <td>9.00</td>\n",
       "      <td>0</td>\n",
       "      <td>0</td>\n",
       "      <td>0</td>\n",
       "    </tr>\n",
       "    <tr>\n",
       "      <th>1</th>\n",
       "      <td>F</td>\n",
       "      <td>41</td>\n",
       "      <td>9.10</td>\n",
       "      <td>11</td>\n",
       "      <td>11</td>\n",
       "      <td>11</td>\n",
       "    </tr>\n",
       "    <tr>\n",
       "      <th>2</th>\n",
       "      <td>F</td>\n",
       "      <td>42</td>\n",
       "      <td>9.15</td>\n",
       "      <td>12</td>\n",
       "      <td>12</td>\n",
       "      <td>12</td>\n",
       "    </tr>\n",
       "    <tr>\n",
       "      <th>3</th>\n",
       "      <td>F</td>\n",
       "      <td>51</td>\n",
       "      <td>9.20</td>\n",
       "      <td>21</td>\n",
       "      <td>21</td>\n",
       "      <td>21</td>\n",
       "    </tr>\n",
       "    <tr>\n",
       "      <th>4</th>\n",
       "      <td>M</td>\n",
       "      <td>52</td>\n",
       "      <td>9.35</td>\n",
       "      <td>22</td>\n",
       "      <td>22</td>\n",
       "      <td>22</td>\n",
       "    </tr>\n",
       "    <tr>\n",
       "      <th>5</th>\n",
       "      <td>M</td>\n",
       "      <td>53</td>\n",
       "      <td>9.34</td>\n",
       "      <td>23</td>\n",
       "      <td>23</td>\n",
       "      <td>23</td>\n",
       "    </tr>\n",
       "    <tr>\n",
       "      <th>6</th>\n",
       "      <td>F</td>\n",
       "      <td>61</td>\n",
       "      <td>9.40</td>\n",
       "      <td>31</td>\n",
       "      <td>24</td>\n",
       "      <td>34</td>\n",
       "    </tr>\n",
       "    <tr>\n",
       "      <th>7</th>\n",
       "      <td>M</td>\n",
       "      <td>62</td>\n",
       "      <td>9.45</td>\n",
       "      <td>32</td>\n",
       "      <td>28</td>\n",
       "      <td>38</td>\n",
       "    </tr>\n",
       "    <tr>\n",
       "      <th>8</th>\n",
       "      <td>M</td>\n",
       "      <td>68</td>\n",
       "      <td>9.55</td>\n",
       "      <td>38</td>\n",
       "      <td>29</td>\n",
       "      <td>49</td>\n",
       "    </tr>\n",
       "    <tr>\n",
       "      <th>9</th>\n",
       "      <td>F</td>\n",
       "      <td>69</td>\n",
       "      <td>9.65</td>\n",
       "      <td>39</td>\n",
       "      <td>33</td>\n",
       "      <td>43</td>\n",
       "    </tr>\n",
       "    <tr>\n",
       "      <th>10</th>\n",
       "      <td>F</td>\n",
       "      <td>77</td>\n",
       "      <td>9.60</td>\n",
       "      <td>47</td>\n",
       "      <td>34</td>\n",
       "      <td>44</td>\n",
       "    </tr>\n",
       "    <tr>\n",
       "      <th>11</th>\n",
       "      <td>F</td>\n",
       "      <td>78</td>\n",
       "      <td>9.70</td>\n",
       "      <td>48</td>\n",
       "      <td>35</td>\n",
       "      <td>45</td>\n",
       "    </tr>\n",
       "    <tr>\n",
       "      <th>12</th>\n",
       "      <td>F</td>\n",
       "      <td>79</td>\n",
       "      <td>9.80</td>\n",
       "      <td>49</td>\n",
       "      <td>37</td>\n",
       "      <td>47</td>\n",
       "    </tr>\n",
       "    <tr>\n",
       "      <th>13</th>\n",
       "      <td>M</td>\n",
       "      <td>88</td>\n",
       "      <td>9.85</td>\n",
       "      <td>58</td>\n",
       "      <td>44</td>\n",
       "      <td>54</td>\n",
       "    </tr>\n",
       "    <tr>\n",
       "      <th>14</th>\n",
       "      <td>F</td>\n",
       "      <td>89</td>\n",
       "      <td>9.90</td>\n",
       "      <td>59</td>\n",
       "      <td>59</td>\n",
       "      <td>59</td>\n",
       "    </tr>\n",
       "    <tr>\n",
       "      <th>15</th>\n",
       "      <td>M</td>\n",
       "      <td>100</td>\n",
       "      <td>10.00</td>\n",
       "      <td>70</td>\n",
       "      <td>70</td>\n",
       "      <td>70</td>\n",
       "    </tr>\n",
       "  </tbody>\n",
       "</table>\n",
       "</div>"
      ],
      "text/plain": [
       "   Gender  Marks     UD   X   Y   Z\n",
       "0       F     30   9.00   0   0   0\n",
       "1       F     41   9.10  11  11  11\n",
       "2       F     42   9.15  12  12  12\n",
       "3       F     51   9.20  21  21  21\n",
       "4       M     52   9.35  22  22  22\n",
       "5       M     53   9.34  23  23  23\n",
       "6       F     61   9.40  31  24  34\n",
       "7       M     62   9.45  32  28  38\n",
       "8       M     68   9.55  38  29  49\n",
       "9       F     69   9.65  39  33  43\n",
       "10      F     77   9.60  47  34  44\n",
       "11      F     78   9.70  48  35  45\n",
       "12      F     79   9.80  49  37  47\n",
       "13      M     88   9.85  58  44  54\n",
       "14      F     89   9.90  59  59  59\n",
       "15      M    100  10.00  70  70  70"
      ]
     },
     "execution_count": 23,
     "metadata": {},
     "output_type": "execute_result"
    }
   ],
   "source": [
    "df = pd.DataFrame({\n",
    "    \"Gender\": [\"F\", \"F\", \"F\", \"F\", \"M\", \"M\", \"F\", \"M\", \"M\", \"F\", \"F\", \"F\", \"F\", \"M\", \"F\", \"M\"],\n",
    "    \"Marks\": [30, 41, 42, 51, 52, 53, 61, 62, 68, 69, 77, 78, 79, 88, 89, 100],\n",
    "    \"UD\": [9, 9.1, 9.15, 9.2, 9.35, 9.34, 9.4, 9.45, 9.55, 9.65, 9.6, 9.7, 9.8, 9.85, 9.9, 10],\n",
    "    \"X\": [0, 11, 12, 21, 22, 23, 31, 32, 38, 39, 47, 48, 49, 58, 59, 70],\n",
    "    \"Y\": [0, 11, 12, 21, 22, 23, 24, 28, 29, 33, 34, 35, 37, 44, 59, 70],\n",
    "    \"Z\": [0, 11, 12, 21, 22, 23, 34, 38, 49, 43, 44, 45, 47, 54, 59, 70]\n",
    "})\n",
    "df"
   ]
  },
  {
   "cell_type": "code",
   "execution_count": 24,
   "id": "e2147569",
   "metadata": {},
   "outputs": [
    {
     "data": {
      "text/plain": [
       "<Axes: xlabel='Gender', ylabel='count'>"
      ]
     },
     "execution_count": 24,
     "metadata": {},
     "output_type": "execute_result"
    },
    {
     "data": {
      "image/png": "[encoded data removed]",
      "text/plain": [
       "<Figure size 640x480 with 1 Axes>"
      ]
     },
     "metadata": {},
     "output_type": "display_data"
    }
   ],
   "source": [
    "# frequency distributiom\n",
    "\n",
    "sn.countplot(x=df['Gender'])    # x = x-axis, y= y-axis"
   ]
  },
  {
   "cell_type": "code",
   "execution_count": 25,
   "id": "4b7ee221",
   "metadata": {},
   "outputs": [
    {
     "data": {
      "text/plain": [
       "<Axes: xlabel='Marks', ylabel='Count'>"
      ]
     },
     "execution_count": 25,
     "metadata": {},
     "output_type": "execute_result"
    },
    {
     "data": {
      "image/png": "[encoded data removed]",
      "text/plain": [
       "<Figure size 640x480 with 1 Axes>"
      ]
     },
     "metadata": {},
     "output_type": "display_data"
    }
   ],
   "source": [
    "# continous frequency distribution\n",
    "\n",
    "sn.histplot(df['Marks'], bins=7, stat='count')"
   ]
  },
  {
   "cell_type": "markdown",
   "id": "0c6a3838",
   "metadata": {},
   "source": [
    "## *2. Probability*\n",
    "- It means chance of occurance.\n",
    "- Range - [0,1]\n",
    "- probability (requirements / intervals) = no. of values satisfy the requirement / Total no. of values\n",
    "- **df[ index_name ].value_count() / len(df)**\n",
    "- **df[ index_name ].value_count(normalize = True)**"
   ]
  },
  {
   "cell_type": "code",
   "execution_count": 26,
   "id": "5be50f71",
   "metadata": {},
   "outputs": [
    {
     "data": {
      "text/plain": [
       "Gender\n",
       "F    0.625\n",
       "M    0.375\n",
       "Name: count, dtype: float64"
      ]
     },
     "execution_count": 26,
     "metadata": {},
     "output_type": "execute_result"
    }
   ],
   "source": [
    "df['Gender'].value_counts() / len(df)"
   ]
  },
  {
   "cell_type": "code",
   "execution_count": 27,
   "id": "28ce389d",
   "metadata": {},
   "outputs": [
    {
     "data": {
      "text/plain": [
       "Gender\n",
       "F    0.625\n",
       "M    0.375\n",
       "Name: proportion, dtype: float64"
      ]
     },
     "execution_count": 27,
     "metadata": {},
     "output_type": "execute_result"
    }
   ],
   "source": [
    "df['Gender'].value_counts(normalize=True)   # here normalize = true means divide with the total"
   ]
  },
  {
   "cell_type": "markdown",
   "id": "21e45490",
   "metadata": {},
   "source": [
    "## *3. Probability Distribution*\n"
   ]
  },
  {
   "cell_type": "markdown",
   "id": "c049411c",
   "metadata": {},
   "source": [
    "### *3.1 Discrete probability distribution*\n",
    "- Graphical representation of discrete variable with correcponding probability.\n",
    "- **sns.countplot(x = df[ index_name ], stat = 'count')**"
   ]
  },
  {
   "cell_type": "code",
   "execution_count": 28,
   "id": "6c979b23",
   "metadata": {},
   "outputs": [
    {
     "data": {
      "text/plain": [
       "<Axes: xlabel='Gender', ylabel='probability'>"
      ]
     },
     "execution_count": 28,
     "metadata": {},
     "output_type": "execute_result"
    },
    {
     "data": {
      "image/png": "[encoded data removed]",
      "text/plain": [
       "<Figure size 640x480 with 1 Axes>"
      ]
     },
     "metadata": {},
     "output_type": "display_data"
    }
   ],
   "source": [
    "sn.countplot(x=df['Gender'],stat='probability')"
   ]
  },
  {
   "cell_type": "markdown",
   "id": "84ec107d",
   "metadata": {},
   "source": [
    "### *3.2 Continous Probability Distribution*\n",
    "- Graphical representation of continous variable with corresponding probability.\n",
    "- **sn.hisplot(df[ index_name ], bins = value, stat = 'probability')**"
   ]
  },
  {
   "cell_type": "code",
   "execution_count": 29,
   "id": "15010820",
   "metadata": {},
   "outputs": [
    {
     "data": {
      "text/plain": [
       "<Axes: xlabel='Marks', ylabel='Probability'>"
      ]
     },
     "execution_count": 29,
     "metadata": {},
     "output_type": "execute_result"
    },
    {
     "data": {
      "image/png": "[encoded data removed]",
      "text/plain": [
       "<Figure size 640x480 with 1 Axes>"
      ]
     },
     "metadata": {},
     "output_type": "display_data"
    }
   ],
   "source": [
    "sn.histplot(df['Marks'],bins=7,stat='probability')"
   ]
  },
  {
   "cell_type": "markdown",
   "id": "3b2d2fd7",
   "metadata": {},
   "source": [
    "### *3.3 Continous Cumulative Frequency Distribution*\n",
    "- only applied in continous data\n",
    "- **sn.histogram(df[index_name],bins= value, stat='count', cumulative=True)**"
   ]
  },
  {
   "cell_type": "code",
   "execution_count": 30,
   "id": "c8b75534",
   "metadata": {},
   "outputs": [
    {
     "data": {
      "text/plain": [
       "<Axes: xlabel='Marks', ylabel='Count'>"
      ]
     },
     "execution_count": 30,
     "metadata": {},
     "output_type": "execute_result"
    },
    {
     "data": {
      "image/png": "[encoded data removed]",
      "text/plain": [
       "<Figure size 640x480 with 1 Axes>"
      ]
     },
     "metadata": {},
     "output_type": "display_data"
    }
   ],
   "source": [
    "sn.histplot(df['Marks'],bins=7,stat='count',cumulative=True)"
   ]
  },
  {
   "cell_type": "markdown",
   "id": "d169ac3d",
   "metadata": {},
   "source": [
    "### *3.4 Continous Cumulative Probability Distribution*\n",
    "- applied only on cotinous data\n",
    "- **sn.histplot(df[index_name],bins=value, stat='probability', cumulative=True)**"
   ]
  },
  {
   "cell_type": "code",
   "execution_count": 31,
   "id": "4b86be6c",
   "metadata": {},
   "outputs": [
    {
     "data": {
      "text/plain": [
       "<Axes: xlabel='Marks', ylabel='Probability'>"
      ]
     },
     "execution_count": 31,
     "metadata": {},
     "output_type": "execute_result"
    },
    {
     "data": {
      "image/png": "[encoded data removed]",
      "text/plain": [
       "<Figure size 640x480 with 1 Axes>"
      ]
     },
     "metadata": {},
     "output_type": "display_data"
    }
   ],
   "source": [
    "sn.histplot(df['Marks'],bins=7,stat='probability',cumulative=True)"
   ]
  },
  {
   "cell_type": "code",
   "execution_count": null,
   "id": "7edbbb18",
   "metadata": {},
   "outputs": [],
   "source": []
  }
 ],
 "metadata": {
  "kernelspec": {
   "display_name": "Python 3",
   "language": "python",
   "name": "python3"
  },
  "language_info": {
   "codemirror_mode": {
    "name": "ipython",
    "version": 3
   },
   "file_extension": ".py",
   "mimetype": "text/x-python",
   "name": "python",
   "nbconvert_exporter": "python",
   "pygments_lexer": "ipython3",
   "version": "3.10.16"
  }
 },
 "nbformat": 4,
 "nbformat_minor": 5
}
