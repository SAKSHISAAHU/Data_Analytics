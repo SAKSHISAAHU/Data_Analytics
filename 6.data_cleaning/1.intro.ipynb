{
 "cells": [
  {
   "cell_type": "markdown",
   "id": "21b84e34",
   "metadata": {},
   "source": [
    "## **DATA CLEANING**\n",
    "- whatever obsevation we had done in data exploration process is now treated so that the data can be clean and analysis ready.\n",
    "\n",
    "- It is the process to treat,\n",
    "    1. wrong data/ values\n",
    "    2. wrong datatypes\n",
    "    3. duplicates\n",
    "    4. missing values\n",
    "    5. outliers\n",
    "    6. unimportant columns\n",
    "    - feature engineering (if needed)\n",
    "    - rename columns (if needed)\n",
    "\n",
    "- The entire data cleaning process will depend upon business problem + common sense (to make decision).\n",
    "- while doing cleaning for each column and in every step we should remember business problem objective.\n",
    "\n",
    "- we have 3 options for data cleaning,\n",
    "    1. **Replace** (always 1st priority)\n",
    "        - try replace with original data so the analysis should be accurate\n",
    "        - if replacing with original is not possible then replace statistically \n",
    "    2. **Remove**\n",
    "    3. **Retrain**"
   ]
  },
  {
   "cell_type": "markdown",
   "id": "ffe813b9",
   "metadata": {},
   "source": []
  }
 ],
 "metadata": {
  "language_info": {
   "name": "python"
  }
 },
 "nbformat": 4,
 "nbformat_minor": 5
}
