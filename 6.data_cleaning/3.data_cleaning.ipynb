{
 "cells": [
  {
   "cell_type": "markdown",
   "id": "8353776c",
   "metadata": {},
   "source": [
    "## **Data Cleaning PROCESS**"
   ]
  }
 ],
 "metadata": {
  "language_info": {
   "name": "python"
  }
 },
 "nbformat": 4,
 "nbformat_minor": 5
}
