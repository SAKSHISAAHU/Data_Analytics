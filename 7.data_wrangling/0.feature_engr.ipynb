{
 "cells": [
  {
   "cell_type": "markdown",
   "id": "c3b8fc9b",
   "metadata": {},
   "source": [
    "## **Feature Engineering**\n",
    "- It means creation of new columns/featues based on requirement.\n",
    "- **Eg -** A dataset consits of two columns revenue and profit and we have to create a new column called expenditure.\n",
    "    - df['expenditure'] = df['revenue'] - df['profit']"
   ]
  },
  {
   "cell_type": "markdown",
   "id": "ba50c7bd",
   "metadata": {},
   "source": [
    "### variables, columns, featues, field all are same.\n",
    "    Exceel -- Column\n",
    "    SQL, Power BI, Tableau -- Variable\n",
    "    Statistics -- Variable\n"
   ]
  }
 ],
 "metadata": {
  "language_info": {
   "name": "python"
  }
 },
 "nbformat": 4,
 "nbformat_minor": 5
}
