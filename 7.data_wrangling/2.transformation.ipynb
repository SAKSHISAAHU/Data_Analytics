{
 "cells": [
  {
   "cell_type": "markdown",
   "id": "c380c978",
   "metadata": {},
   "source": [
    "# **TRANSFORMATION**\n",
    "- It is the process of converting skewed distributed data to nrml distribution.\n",
    "- **USE** - In order to apply inferential statistics we require data to be normally distributed, otherwise we dont require it.\n",
    "- **HOW** - By applying various transformation,\n",
    "\n",
    "    - *for right skewed data* -- log and nth root transformation.\n",
    "    - *for left skewed data* -- exp(exponential) and nth power transformation.\n"
   ]
  },
  {
   "cell_type": "code",
   "execution_count": 1,
   "id": "f81107cd",
   "metadata": {},
   "outputs": [],
   "source": [
    "import numpy as np\n",
    "import pandas as pd"
   ]
  },
  {
   "cell_type": "code",
   "execution_count": 2,
   "id": "4ca312e8",
   "metadata": {},
   "outputs": [
    {
     "data": {
      "text/html": [
       "<div>\n",
       "<style scoped>\n",
       "    .dataframe tbody tr th:only-of-type {\n",
       "        vertical-align: middle;\n",
       "    }\n",
       "\n",
       "    .dataframe tbody tr th {\n",
       "        vertical-align: top;\n",
       "    }\n",
       "\n",
       "    .dataframe thead th {\n",
       "        text-align: right;\n",
       "    }\n",
       "</style>\n",
       "<table border=\"1\" class=\"dataframe\">\n",
       "  <thead>\n",
       "    <tr style=\"text-align: right;\">\n",
       "      <th></th>\n",
       "      <th>ID</th>\n",
       "      <th>Income</th>\n",
       "      <th>ReviewScore</th>\n",
       "      <th>Height</th>\n",
       "      <th>Age</th>\n",
       "      <th>ProductViews</th>\n",
       "    </tr>\n",
       "  </thead>\n",
       "  <tbody>\n",
       "    <tr>\n",
       "      <th>0</th>\n",
       "      <td>1</td>\n",
       "      <td>22000</td>\n",
       "      <td>5.0</td>\n",
       "      <td>168</td>\n",
       "      <td>25</td>\n",
       "      <td>50</td>\n",
       "    </tr>\n",
       "    <tr>\n",
       "      <th>1</th>\n",
       "      <td>2</td>\n",
       "      <td>25000</td>\n",
       "      <td>5.0</td>\n",
       "      <td>172</td>\n",
       "      <td>30</td>\n",
       "      <td>60</td>\n",
       "    </tr>\n",
       "    <tr>\n",
       "      <th>2</th>\n",
       "      <td>3</td>\n",
       "      <td>30000</td>\n",
       "      <td>4.9</td>\n",
       "      <td>171</td>\n",
       "      <td>28</td>\n",
       "      <td>100</td>\n",
       "    </tr>\n",
       "    <tr>\n",
       "      <th>3</th>\n",
       "      <td>4</td>\n",
       "      <td>40000</td>\n",
       "      <td>4.8</td>\n",
       "      <td>173</td>\n",
       "      <td>34</td>\n",
       "      <td>150</td>\n",
       "    </tr>\n",
       "    <tr>\n",
       "      <th>4</th>\n",
       "      <td>5</td>\n",
       "      <td>60000</td>\n",
       "      <td>4.8</td>\n",
       "      <td>169</td>\n",
       "      <td>29</td>\n",
       "      <td>180</td>\n",
       "    </tr>\n",
       "  </tbody>\n",
       "</table>\n",
       "</div>"
      ],
      "text/plain": [
       "   ID  Income  ReviewScore  Height  Age  ProductViews\n",
       "0   1   22000          5.0     168   25            50\n",
       "1   2   25000          5.0     172   30            60\n",
       "2   3   30000          4.9     171   28           100\n",
       "3   4   40000          4.8     173   34           150\n",
       "4   5   60000          4.8     169   29           180"
      ]
     },
     "execution_count": 2,
     "metadata": {},
     "output_type": "execute_result"
    }
   ],
   "source": [
    "df=pd.read_csv('/Users/sakshisahu/Documents/learning/Data_Analytics/data/Sample.csv')\n",
    "df.head()"
   ]
  },
  {
   "cell_type": "code",
   "execution_count": 3,
   "id": "86e613b8",
   "metadata": {},
   "outputs": [
    {
     "data": {
      "text/plain": [
       "(10, 6)"
      ]
     },
     "execution_count": 3,
     "metadata": {},
     "output_type": "execute_result"
    }
   ],
   "source": [
    "df.shape"
   ]
  },
  {
   "cell_type": "code",
   "execution_count": 4,
   "id": "d655a362",
   "metadata": {},
   "outputs": [
    {
     "data": {
      "text/plain": [
       "Income          1.589953\n",
       "ReviewScore    -1.982947\n",
       "ProductViews    0.514834\n",
       "dtype: float64"
      ]
     },
     "execution_count": 4,
     "metadata": {},
     "output_type": "execute_result"
    }
   ],
   "source": [
    "continous=['Income','ReviewScore','ProductViews']\n",
    "df[continous].skew()"
   ]
  },
  {
   "cell_type": "markdown",
   "id": "8dffae81",
   "metadata": {},
   "source": [
    "## **1. for right skewed data**\n",
    "- We dont need to apply log and nth root transformation at a time, which one of these give skewness close to 0 is best."
   ]
  },
  {
   "cell_type": "code",
   "execution_count": 5,
   "id": "87633bec",
   "metadata": {},
   "outputs": [
    {
     "data": {
      "text/plain": [
       "np.float64(1.58995343495131)"
      ]
     },
     "execution_count": 5,
     "metadata": {},
     "output_type": "execute_result"
    }
   ],
   "source": [
    "df['Income'].skew()  #it is right skewed as skewness is >1."
   ]
  },
  {
   "cell_type": "markdown",
   "id": "5d8ae7e3",
   "metadata": {},
   "source": [
    "### *1.1 log transformation*\n",
    "- It meant applying log **np.log()** in each values of a column.\n",
    "\n",
    "- Befor applying log, we have to check the minimun value for applying column because if it is 0 then **log(0) = ∞** , and ∞ as a value if we check the skewness of a column then it will be NONE and non of the statistical measure either can be calculated as ∞ has no fixed value.\n",
    "\n",
    "- So, if a column have actually 0 as a value, in order to do log  we have to add **0.01 to each values** of that column, as 0.01 to each value have less impact on result and 0 problem will be resolved by doing so.\n",
    "\n",
    "- If the value lies between -1 to 1 then it nrml distributed."
   ]
  },
  {
   "cell_type": "code",
   "execution_count": 6,
   "id": "25a20c1f",
   "metadata": {},
   "outputs": [
    {
     "name": "stdout",
     "output_type": "stream",
     "text": [
      "0.34390326559175677\n"
     ]
    }
   ],
   "source": [
    "df['log_Income'] = np.log (df['Income'])\n",
    "print(df['log_Income'].skew())"
   ]
  },
  {
   "cell_type": "code",
   "execution_count": 7,
   "id": "8da99468",
   "metadata": {},
   "outputs": [
    {
     "data": {
      "text/html": [
       "<div>\n",
       "<style scoped>\n",
       "    .dataframe tbody tr th:only-of-type {\n",
       "        vertical-align: middle;\n",
       "    }\n",
       "\n",
       "    .dataframe tbody tr th {\n",
       "        vertical-align: top;\n",
       "    }\n",
       "\n",
       "    .dataframe thead th {\n",
       "        text-align: right;\n",
       "    }\n",
       "</style>\n",
       "<table border=\"1\" class=\"dataframe\">\n",
       "  <thead>\n",
       "    <tr style=\"text-align: right;\">\n",
       "      <th></th>\n",
       "      <th>ID</th>\n",
       "      <th>Income</th>\n",
       "      <th>ReviewScore</th>\n",
       "      <th>Height</th>\n",
       "      <th>Age</th>\n",
       "      <th>ProductViews</th>\n",
       "      <th>log_Income</th>\n",
       "    </tr>\n",
       "  </thead>\n",
       "  <tbody>\n",
       "    <tr>\n",
       "      <th>0</th>\n",
       "      <td>1</td>\n",
       "      <td>22000</td>\n",
       "      <td>5.0</td>\n",
       "      <td>168</td>\n",
       "      <td>25</td>\n",
       "      <td>50</td>\n",
       "      <td>9.998798</td>\n",
       "    </tr>\n",
       "    <tr>\n",
       "      <th>1</th>\n",
       "      <td>2</td>\n",
       "      <td>25000</td>\n",
       "      <td>5.0</td>\n",
       "      <td>172</td>\n",
       "      <td>30</td>\n",
       "      <td>60</td>\n",
       "      <td>10.126631</td>\n",
       "    </tr>\n",
       "  </tbody>\n",
       "</table>\n",
       "</div>"
      ],
      "text/plain": [
       "   ID  Income  ReviewScore  Height  Age  ProductViews  log_Income\n",
       "0   1   22000          5.0     168   25            50    9.998798\n",
       "1   2   25000          5.0     172   30            60   10.126631"
      ]
     },
     "execution_count": 7,
     "metadata": {},
     "output_type": "execute_result"
    }
   ],
   "source": [
    "df.head(2)"
   ]
  },
  {
   "cell_type": "markdown",
   "id": "32e1849a",
   "metadata": {},
   "source": [
    "### *1.2 nth root transformation*\n",
    "- It means applying nth root for each and every values in column.\n",
    "- x^(1/n) = n√x = x**(1/n) (in python) \n",
    "- here there is no issue of 0."
   ]
  },
  {
   "cell_type": "code",
   "execution_count": 8,
   "id": "d763ebdf",
   "metadata": {},
   "outputs": [
    {
     "name": "stdout",
     "output_type": "stream",
     "text": [
      "0.4471821816742738\n"
     ]
    }
   ],
   "source": [
    "# doing manually -- check value lies between -1 to 1\n",
    "df['root_Income'] = df['Income']**(1/12)\n",
    "print(df['root_Income'].skew())"
   ]
  },
  {
   "cell_type": "code",
   "execution_count": 9,
   "id": "a2796fb4",
   "metadata": {},
   "outputs": [
    {
     "data": {
      "text/html": [
       "<div>\n",
       "<style scoped>\n",
       "    .dataframe tbody tr th:only-of-type {\n",
       "        vertical-align: middle;\n",
       "    }\n",
       "\n",
       "    .dataframe tbody tr th {\n",
       "        vertical-align: top;\n",
       "    }\n",
       "\n",
       "    .dataframe thead th {\n",
       "        text-align: right;\n",
       "    }\n",
       "</style>\n",
       "<table border=\"1\" class=\"dataframe\">\n",
       "  <thead>\n",
       "    <tr style=\"text-align: right;\">\n",
       "      <th></th>\n",
       "      <th>ID</th>\n",
       "      <th>Income</th>\n",
       "      <th>ReviewScore</th>\n",
       "      <th>Height</th>\n",
       "      <th>Age</th>\n",
       "      <th>ProductViews</th>\n",
       "      <th>log_Income</th>\n",
       "      <th>root_Income</th>\n",
       "    </tr>\n",
       "  </thead>\n",
       "  <tbody>\n",
       "    <tr>\n",
       "      <th>0</th>\n",
       "      <td>1</td>\n",
       "      <td>22000</td>\n",
       "      <td>5.0</td>\n",
       "      <td>168</td>\n",
       "      <td>25</td>\n",
       "      <td>50</td>\n",
       "      <td>9.998798</td>\n",
       "      <td>2.300745</td>\n",
       "    </tr>\n",
       "    <tr>\n",
       "      <th>1</th>\n",
       "      <td>2</td>\n",
       "      <td>25000</td>\n",
       "      <td>5.0</td>\n",
       "      <td>172</td>\n",
       "      <td>30</td>\n",
       "      <td>60</td>\n",
       "      <td>10.126631</td>\n",
       "      <td>2.325386</td>\n",
       "    </tr>\n",
       "  </tbody>\n",
       "</table>\n",
       "</div>"
      ],
      "text/plain": [
       "   ID  Income  ReviewScore  Height  Age  ProductViews  log_Income  root_Income\n",
       "0   1   22000          5.0     168   25            50    9.998798     2.300745\n",
       "1   2   25000          5.0     172   30            60   10.126631     2.325386"
      ]
     },
     "execution_count": 9,
     "metadata": {},
     "output_type": "execute_result"
    }
   ],
   "source": [
    "df.head(2)"
   ]
  },
  {
   "cell_type": "markdown",
   "id": "a6636895",
   "metadata": {},
   "source": [
    "## **2. for left skewed value**"
   ]
  },
  {
   "cell_type": "code",
   "execution_count": 10,
   "id": "3229499b",
   "metadata": {},
   "outputs": [
    {
     "data": {
      "text/plain": [
       "np.float64(-1.9829469559344794)"
      ]
     },
     "execution_count": 10,
     "metadata": {},
     "output_type": "execute_result"
    }
   ],
   "source": [
    "df['ReviewScore'].skew()"
   ]
  },
  {
   "cell_type": "markdown",
   "id": "09f3247d",
   "metadata": {},
   "source": [
    "### *2.1 exp transformation*"
   ]
  },
  {
   "cell_type": "code",
   "execution_count": 11,
   "id": "36f091a0",
   "metadata": {},
   "outputs": [
    {
     "data": {
      "text/plain": [
       "np.float64(-0.8742559746847688)"
      ]
     },
     "execution_count": 11,
     "metadata": {},
     "output_type": "execute_result"
    }
   ],
   "source": [
    "df['exp_ReviewScore'] = np.exp(df['ReviewScore'])\n",
    "df['exp_ReviewScore'].skew()"
   ]
  },
  {
   "cell_type": "code",
   "execution_count": 12,
   "id": "f4dc94d9",
   "metadata": {},
   "outputs": [
    {
     "data": {
      "text/html": [
       "<div>\n",
       "<style scoped>\n",
       "    .dataframe tbody tr th:only-of-type {\n",
       "        vertical-align: middle;\n",
       "    }\n",
       "\n",
       "    .dataframe tbody tr th {\n",
       "        vertical-align: top;\n",
       "    }\n",
       "\n",
       "    .dataframe thead th {\n",
       "        text-align: right;\n",
       "    }\n",
       "</style>\n",
       "<table border=\"1\" class=\"dataframe\">\n",
       "  <thead>\n",
       "    <tr style=\"text-align: right;\">\n",
       "      <th></th>\n",
       "      <th>ID</th>\n",
       "      <th>Income</th>\n",
       "      <th>ReviewScore</th>\n",
       "      <th>Height</th>\n",
       "      <th>Age</th>\n",
       "      <th>ProductViews</th>\n",
       "      <th>log_Income</th>\n",
       "      <th>root_Income</th>\n",
       "      <th>exp_ReviewScore</th>\n",
       "    </tr>\n",
       "  </thead>\n",
       "  <tbody>\n",
       "    <tr>\n",
       "      <th>0</th>\n",
       "      <td>1</td>\n",
       "      <td>22000</td>\n",
       "      <td>5.0</td>\n",
       "      <td>168</td>\n",
       "      <td>25</td>\n",
       "      <td>50</td>\n",
       "      <td>9.998798</td>\n",
       "      <td>2.300745</td>\n",
       "      <td>148.413159</td>\n",
       "    </tr>\n",
       "    <tr>\n",
       "      <th>1</th>\n",
       "      <td>2</td>\n",
       "      <td>25000</td>\n",
       "      <td>5.0</td>\n",
       "      <td>172</td>\n",
       "      <td>30</td>\n",
       "      <td>60</td>\n",
       "      <td>10.126631</td>\n",
       "      <td>2.325386</td>\n",
       "      <td>148.413159</td>\n",
       "    </tr>\n",
       "  </tbody>\n",
       "</table>\n",
       "</div>"
      ],
      "text/plain": [
       "   ID  Income  ReviewScore  Height  Age  ProductViews  log_Income  \\\n",
       "0   1   22000          5.0     168   25            50    9.998798   \n",
       "1   2   25000          5.0     172   30            60   10.126631   \n",
       "\n",
       "   root_Income  exp_ReviewScore  \n",
       "0     2.300745       148.413159  \n",
       "1     2.325386       148.413159  "
      ]
     },
     "execution_count": 12,
     "metadata": {},
     "output_type": "execute_result"
    }
   ],
   "source": [
    "df.head(2)"
   ]
  },
  {
   "cell_type": "markdown",
   "id": "ebfab45b",
   "metadata": {},
   "source": [
    "### *2.2 power transformation*"
   ]
  },
  {
   "cell_type": "code",
   "execution_count": 13,
   "id": "77c8b21f",
   "metadata": {},
   "outputs": [
    {
     "data": {
      "text/plain": [
       "np.float64(-0.8689113517717533)"
      ]
     },
     "execution_count": 13,
     "metadata": {},
     "output_type": "execute_result"
    }
   ],
   "source": [
    "df['pwr_ReviewScore'] = df['ReviewScore']**5\n",
    "df['pwr_ReviewScore'].skew()"
   ]
  },
  {
   "cell_type": "code",
   "execution_count": 14,
   "id": "381559c9",
   "metadata": {},
   "outputs": [
    {
     "data": {
      "text/html": [
       "<div>\n",
       "<style scoped>\n",
       "    .dataframe tbody tr th:only-of-type {\n",
       "        vertical-align: middle;\n",
       "    }\n",
       "\n",
       "    .dataframe tbody tr th {\n",
       "        vertical-align: top;\n",
       "    }\n",
       "\n",
       "    .dataframe thead th {\n",
       "        text-align: right;\n",
       "    }\n",
       "</style>\n",
       "<table border=\"1\" class=\"dataframe\">\n",
       "  <thead>\n",
       "    <tr style=\"text-align: right;\">\n",
       "      <th></th>\n",
       "      <th>ID</th>\n",
       "      <th>Income</th>\n",
       "      <th>ReviewScore</th>\n",
       "      <th>Height</th>\n",
       "      <th>Age</th>\n",
       "      <th>ProductViews</th>\n",
       "      <th>log_Income</th>\n",
       "      <th>root_Income</th>\n",
       "      <th>exp_ReviewScore</th>\n",
       "      <th>pwr_ReviewScore</th>\n",
       "    </tr>\n",
       "  </thead>\n",
       "  <tbody>\n",
       "    <tr>\n",
       "      <th>0</th>\n",
       "      <td>1</td>\n",
       "      <td>22000</td>\n",
       "      <td>5.0</td>\n",
       "      <td>168</td>\n",
       "      <td>25</td>\n",
       "      <td>50</td>\n",
       "      <td>9.998798</td>\n",
       "      <td>2.300745</td>\n",
       "      <td>148.413159</td>\n",
       "      <td>3125.0</td>\n",
       "    </tr>\n",
       "    <tr>\n",
       "      <th>1</th>\n",
       "      <td>2</td>\n",
       "      <td>25000</td>\n",
       "      <td>5.0</td>\n",
       "      <td>172</td>\n",
       "      <td>30</td>\n",
       "      <td>60</td>\n",
       "      <td>10.126631</td>\n",
       "      <td>2.325386</td>\n",
       "      <td>148.413159</td>\n",
       "      <td>3125.0</td>\n",
       "    </tr>\n",
       "  </tbody>\n",
       "</table>\n",
       "</div>"
      ],
      "text/plain": [
       "   ID  Income  ReviewScore  Height  Age  ProductViews  log_Income  \\\n",
       "0   1   22000          5.0     168   25            50    9.998798   \n",
       "1   2   25000          5.0     172   30            60   10.126631   \n",
       "\n",
       "   root_Income  exp_ReviewScore  pwr_ReviewScore  \n",
       "0     2.300745       148.413159           3125.0  \n",
       "1     2.325386       148.413159           3125.0  "
      ]
     },
     "execution_count": 14,
     "metadata": {},
     "output_type": "execute_result"
    }
   ],
   "source": [
    "df.head(2)"
   ]
  },
  {
   "cell_type": "markdown",
   "id": "374edd4f",
   "metadata": {},
   "source": [
    "## **3. BOX-COX Transformation**"
   ]
  },
  {
   "cell_type": "code",
   "execution_count": null,
   "id": "71df5a5d",
   "metadata": {},
   "outputs": [],
   "source": []
  }
 ],
 "metadata": {
  "kernelspec": {
   "display_name": "Python 3",
   "language": "python",
   "name": "python3"
  },
  "language_info": {
   "codemirror_mode": {
    "name": "ipython",
    "version": 3
   },
   "file_extension": ".py",
   "mimetype": "text/x-python",
   "name": "python",
   "nbconvert_exporter": "python",
   "pygments_lexer": "ipython3",
   "version": "3.10.18"
  }
 },
 "nbformat": 4,
 "nbformat_minor": 5
}
