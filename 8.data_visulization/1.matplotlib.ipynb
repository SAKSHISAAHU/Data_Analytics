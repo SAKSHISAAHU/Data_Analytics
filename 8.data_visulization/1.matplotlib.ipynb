{
 "cells": [
  {
   "cell_type": "code",
   "execution_count": 14,
   "id": "f894f481",
   "metadata": {},
   "outputs": [],
   "source": [
    "import numpy as np\n",
    "import pandas as pd\n",
    "import matplotlib.pyplot as plt"
   ]
  },
  {
   "cell_type": "markdown",
   "id": "53970ed8",
   "metadata": {},
   "source": [
    "## **MATPLOTLIB**\n",
    "- **syntax** - import matplotlib.pyplot as plt\n",
    "- It stand for mathematical plotting library.\n",
    "- It is used for simple plotting as it support custom label and text.\n",
    "- we only apply plots in the clean data.\n",
    "- the plots are,\n",
    "\n",
    "    1. histogram\n",
    "    2. boxplot\n",
    "    3. scatter plot\n",
    "    4. line plot\n",
    "    5. comparision line plot\n",
    "    6. pie chart\n",
    "    7. count plot\n",
    "        - vertical\n",
    "        - horizontal\n",
    "    8. bar plot\n",
    "        - vertical = column plot\n",
    "        - horizontal = bar plot\n",
    "    9. stacked plot\n",
    "        - vertical\n",
    "        - horizontal\n",
    "    10. unstacked plot\n",
    "        - vertical\n",
    "        - horizontal\n",
    "    11. subplot"
   ]
  },
  {
   "cell_type": "code",
   "execution_count": 15,
   "id": "4e8c65c3",
   "metadata": {},
   "outputs": [
    {
     "data": {
      "text/html": [
       "<div>\n",
       "<style scoped>\n",
       "    .dataframe tbody tr th:only-of-type {\n",
       "        vertical-align: middle;\n",
       "    }\n",
       "\n",
       "    .dataframe tbody tr th {\n",
       "        vertical-align: top;\n",
       "    }\n",
       "\n",
       "    .dataframe thead th {\n",
       "        text-align: right;\n",
       "    }\n",
       "</style>\n",
       "<table border=\"1\" class=\"dataframe\">\n",
       "  <thead>\n",
       "    <tr style=\"text-align: right;\">\n",
       "      <th></th>\n",
       "      <th>StudyHours</th>\n",
       "      <th>Grade</th>\n",
       "      <th>Gender</th>\n",
       "      <th>no_of_assignments</th>\n",
       "    </tr>\n",
       "  </thead>\n",
       "  <tbody>\n",
       "    <tr>\n",
       "      <th>0</th>\n",
       "      <td>10.00</td>\n",
       "      <td>50</td>\n",
       "      <td>F</td>\n",
       "      <td>1</td>\n",
       "    </tr>\n",
       "    <tr>\n",
       "      <th>1</th>\n",
       "      <td>11.50</td>\n",
       "      <td>50</td>\n",
       "      <td>M</td>\n",
       "      <td>1</td>\n",
       "    </tr>\n",
       "    <tr>\n",
       "      <th>2</th>\n",
       "      <td>9.00</td>\n",
       "      <td>47</td>\n",
       "      <td>M</td>\n",
       "      <td>1</td>\n",
       "    </tr>\n",
       "    <tr>\n",
       "      <th>3</th>\n",
       "      <td>16.00</td>\n",
       "      <td>97</td>\n",
       "      <td>M</td>\n",
       "      <td>2</td>\n",
       "    </tr>\n",
       "    <tr>\n",
       "      <th>4</th>\n",
       "      <td>9.25</td>\n",
       "      <td>49</td>\n",
       "      <td>F</td>\n",
       "      <td>2</td>\n",
       "    </tr>\n",
       "    <tr>\n",
       "      <th>5</th>\n",
       "      <td>1.00</td>\n",
       "      <td>3</td>\n",
       "      <td>M</td>\n",
       "      <td>2</td>\n",
       "    </tr>\n",
       "    <tr>\n",
       "      <th>6</th>\n",
       "      <td>11.50</td>\n",
       "      <td>53</td>\n",
       "      <td>M</td>\n",
       "      <td>3</td>\n",
       "    </tr>\n",
       "    <tr>\n",
       "      <th>7</th>\n",
       "      <td>9.00</td>\n",
       "      <td>42</td>\n",
       "      <td>F</td>\n",
       "      <td>3</td>\n",
       "    </tr>\n",
       "    <tr>\n",
       "      <th>8</th>\n",
       "      <td>8.50</td>\n",
       "      <td>26</td>\n",
       "      <td>M</td>\n",
       "      <td>3</td>\n",
       "    </tr>\n",
       "    <tr>\n",
       "      <th>9</th>\n",
       "      <td>14.50</td>\n",
       "      <td>74</td>\n",
       "      <td>F</td>\n",
       "      <td>3</td>\n",
       "    </tr>\n",
       "    <tr>\n",
       "      <th>10</th>\n",
       "      <td>15.50</td>\n",
       "      <td>82</td>\n",
       "      <td>M</td>\n",
       "      <td>3</td>\n",
       "    </tr>\n",
       "    <tr>\n",
       "      <th>11</th>\n",
       "      <td>13.75</td>\n",
       "      <td>62</td>\n",
       "      <td>F</td>\n",
       "      <td>4</td>\n",
       "    </tr>\n",
       "    <tr>\n",
       "      <th>12</th>\n",
       "      <td>9.00</td>\n",
       "      <td>37</td>\n",
       "      <td>M</td>\n",
       "      <td>4</td>\n",
       "    </tr>\n",
       "    <tr>\n",
       "      <th>13</th>\n",
       "      <td>8.00</td>\n",
       "      <td>119</td>\n",
       "      <td>F</td>\n",
       "      <td>4</td>\n",
       "    </tr>\n",
       "    <tr>\n",
       "      <th>14</th>\n",
       "      <td>15.50</td>\n",
       "      <td>165</td>\n",
       "      <td>M</td>\n",
       "      <td>4</td>\n",
       "    </tr>\n",
       "  </tbody>\n",
       "</table>\n",
       "</div>"
      ],
      "text/plain": [
       "    StudyHours  Grade Gender  no_of_assignments\n",
       "0        10.00     50      F                  1\n",
       "1        11.50     50      M                  1\n",
       "2         9.00     47      M                  1\n",
       "3        16.00     97      M                  2\n",
       "4         9.25     49      F                  2\n",
       "5         1.00      3      M                  2\n",
       "6        11.50     53      M                  3\n",
       "7         9.00     42      F                  3\n",
       "8         8.50     26      M                  3\n",
       "9        14.50     74      F                  3\n",
       "10       15.50     82      M                  3\n",
       "11       13.75     62      F                  4\n",
       "12        9.00     37      M                  4\n",
       "13        8.00    119      F                  4\n",
       "14       15.50    165      M                  4"
      ]
     },
     "execution_count": 15,
     "metadata": {},
     "output_type": "execute_result"
    }
   ],
   "source": [
    "df = pd.DataFrame(\n",
    "    {'StudyHours': [10, 11.5, 9, 16, 9.25, 1, 11.5, 9, 8.5, 14.5, 15.5, 13.75, 9, 8, 15.5],\n",
    "     'Grade': [50, 50, 47, 97, 49, 3, 53, 42, 26, 74, 82, 62, 37, 119, 165],\n",
    "     'Gender': [\"F\", \"M\", \"M\", \"M\", \"F\", \"M\", \"M\", \"F\", \"M\", \"F\", \"M\", \"F\", \"M\", \"F\", \"M\"],\n",
    "     'no_of_assignments': [1, 1, 1, 2, 2, 2, 3, 3, 3, 3, 3, 4, 4, 4, 4]})\n",
    "df"
   ]
  },
  {
   "cell_type": "markdown",
   "id": "ba49c0cc",
   "metadata": {},
   "source": [
    "### 1.1 Histogram\n",
    "- **USE** - It represent the distribution of data in each intervals.\n",
    "- x-axis contains continous variable.\n",
    "- y-axis contain count/frequency distribution of that variable.\n",
    "- **SYNTAX** - \n",
    "    <pre> \n",
    "    plt.hist( df[1_continous_var],range=(min_value, max_value),bins= no of intervals you want based on range)\n",
    "    plt.xticks(range(min_value, max_value, interval_size))\n",
    "    <pre>\n",
    "- to decide interval/bins = max - min value / no. of bins (deafult = 10)\n",
    "- **CONCLUSION** - when we want equal intervals then we use histogram but when we want unequal intervals then we do disritization and use count plot."
   ]
  },
  {
   "cell_type": "code",
   "execution_count": 34,
   "id": "8da03f9a",
   "metadata": {},
   "outputs": [
    {
     "data": {
      "image/png": "[encoded data removed]",
      "text/plain": [
       "<Figure size 500x300 with 1 Axes>"
      ]
     },
     "metadata": {},
     "output_type": "display_data"
    }
   ],
   "source": [
    "plt.figure(figsize=(5,3))\n",
    "plt.hist(df['Grade'],range=(0,201),bins=4)\n",
    "plt.xticks(range(0,201,50))\n",
    "plt.xlabel(\"student marks\")\n",
    "plt.ylabel('count')\n",
    "plt.title('marks distribution')\n",
    "plt.show()"
   ]
  },
  {
   "cell_type": "markdown",
   "id": "c063284e",
   "metadata": {},
   "source": [
    "### 1.2 Boxplot"
   ]
  },
  {
   "cell_type": "markdown",
   "id": "2852825e",
   "metadata": {},
   "source": [
    "### **Unstacked Bar Plot**"
   ]
  },
  {
   "cell_type": "code",
   "execution_count": 4,
   "id": "7c4055c3",
   "metadata": {},
   "outputs": [
    {
     "data": {
      "image/png": "[encoded data removed]",
      "text/plain": [
       "<Figure size 640x480 with 1 Axes>"
      ]
     },
     "metadata": {},
     "output_type": "display_data"
    }
   ],
   "source": [
    "plt.bar([0,1,2,3],[20,30,50,40],width=0.4,align='edge',label='C1')\n",
    "plt.bar([0.4,1.4,2.4,3.4],[10,60,30,90],width=0.4,align='edge',label='C2')\n",
    "plt.xticks([0,1,2,3],['A','B','C','D'])\n",
    "plt.legend()\n",
    "plt.show()"
   ]
  },
  {
   "cell_type": "markdown",
   "id": "10be6e3a",
   "metadata": {},
   "source": [
    "### **Horizontal Unstacked Bar Plot**"
   ]
  },
  {
   "cell_type": "code",
   "execution_count": 13,
   "id": "4b942558",
   "metadata": {},
   "outputs": [
    {
     "data": {
      "image/png": "[encoded data removed]",
      "text/plain": [
       "<Figure size 640x480 with 1 Axes>"
      ]
     },
     "metadata": {},
     "output_type": "display_data"
    }
   ],
   "source": [
    "plt.barh([0,1,2,3],[20,30,50,40],height=0.4,align='edge',label='C1')\n",
    "plt.barh([0.4,1.4,2.4,3.4],[10,60,30,90],height=0.4,align='edge',label='C2')\n",
    "plt.yticks([0,1,2,3],['A','B','C','D'])\n",
    "plt.legend()\n",
    "plt.show()"
   ]
  },
  {
   "cell_type": "code",
   "execution_count": null,
   "id": "276022da",
   "metadata": {},
   "outputs": [],
   "source": []
  }
 ],
 "metadata": {
  "kernelspec": {
   "display_name": "Python 3",
   "language": "python",
   "name": "python3"
  },
  "language_info": {
   "codemirror_mode": {
    "name": "ipython",
    "version": 3
   },
   "file_extension": ".py",
   "mimetype": "text/x-python",
   "name": "python",
   "nbconvert_exporter": "python",
   "pygments_lexer": "ipython3",
   "version": "3.10.18"
  }
 },
 "nbformat": 4,
 "nbformat_minor": 5
}
